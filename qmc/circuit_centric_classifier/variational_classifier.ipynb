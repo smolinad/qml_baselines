{
 "cells": [
  {
   "cell_type": "code",
   "execution_count": 1,
   "metadata": {},
   "outputs": [],
   "source": [
    "import tensorcircuit as tc\n",
    "import tensorflow as tf\n",
    "\n",
    "from variational_classifier import VariationalClassifier"
   ]
  },
  {
   "cell_type": "code",
   "execution_count": 2,
   "metadata": {},
   "outputs": [
    {
     "data": {
      "text/plain": [
       "('complex128', 'float64')"
      ]
     },
     "execution_count": 2,
     "metadata": {},
     "output_type": "execute_result"
    }
   ],
   "source": [
    "K = tc.set_backend(\"tensorflow\")\n",
    "tc.set_dtype(\"complex128\")"
   ]
  },
  {
   "cell_type": "code",
   "execution_count": 3,
   "metadata": {},
   "outputs": [],
   "source": [
    "(x_train, y_train), (x_test, y_test) = tc.templates.dataset.mnist_pair_data(\n",
    "    3, 6, loader=None\n",
    ")"
   ]
  },
  {
   "cell_type": "code",
   "execution_count": 4,
   "metadata": {},
   "outputs": [],
   "source": [
    "batched_ae = K.vmap(tc.templates.dataset.amplitude_encoding, vectorized_argnums=0)"
   ]
  },
  {
   "cell_type": "code",
   "execution_count": 5,
   "metadata": {},
   "outputs": [],
   "source": [
    "x_train = tf.image.pad_to_bounding_box(x_train, 2, 2, 32, 32)\n",
    "x_test = tf.image.pad_to_bounding_box(x_test, 2, 2, 32, 32)"
   ]
  },
  {
   "cell_type": "code",
   "execution_count": 6,
   "metadata": {},
   "outputs": [],
   "source": [
    "x_train_q = batched_ae(x_train, 10)\n",
    "x_test_q = batched_ae(x_test, 10)"
   ]
  },
  {
   "cell_type": "code",
   "execution_count": 7,
   "metadata": {},
   "outputs": [],
   "source": [
    "vc = VariationalClassifier(rangeList=[1])"
   ]
  },
  {
   "cell_type": "code",
   "execution_count": 8,
   "metadata": {},
   "outputs": [
    {
     "name": "stdout",
     "output_type": "stream",
     "text": [
      "Epoch 1/3\n",
      "76/76 [==============================] - 36s 220ms/step - loss: 0.8461 - binary_accuracy: 0.7823 - val_loss: 0.7439 - val_binary_accuracy: 0.9617\n",
      "Epoch 2/3\n",
      "76/76 [==============================] - 6s 79ms/step - loss: 0.7218 - binary_accuracy: 0.9817 - val_loss: 0.7013 - val_binary_accuracy: 0.9770\n",
      "Epoch 3/3\n",
      "76/76 [==============================] - 6s 85ms/step - loss: 0.6961 - binary_accuracy: 0.9844 - val_loss: 0.6838 - val_binary_accuracy: 0.9817\n"
     ]
    }
   ],
   "source": [
    "vc.fit(x_train_q, y_train, batch_size=32, epochs=3, validation_split=0.8)"
   ]
  }
 ],
 "metadata": {
  "kernelspec": {
   "display_name": "Python 3",
   "language": "python",
   "name": "python3"
  },
  "language_info": {
   "codemirror_mode": {
    "name": "ipython",
    "version": 3
   },
   "file_extension": ".py",
   "mimetype": "text/x-python",
   "name": "python",
   "nbconvert_exporter": "python",
   "pygments_lexer": "ipython3",
   "version": "3.10.11"
  }
 },
 "nbformat": 4,
 "nbformat_minor": 2
}
