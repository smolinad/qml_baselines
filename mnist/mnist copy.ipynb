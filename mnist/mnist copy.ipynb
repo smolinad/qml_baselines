{
 "cells": [
  {
   "cell_type": "markdown",
   "metadata": {},
   "source": [
    "## Quantum Neural Network on $4 \\times 4$ downsampled MNIST Digits  \n",
    "Sebastian Molina  \n",
    "smolinad@unal.edu.co"
   ]
  },
  {
   "cell_type": "code",
   "execution_count": 1,
   "metadata": {},
   "outputs": [],
   "source": [
    "from mnist_preprocessing import preprocess_mnist_digits as mnist_digits\n",
    "from classical_neural_network import NeuralNetwork"
   ]
  },
  {
   "cell_type": "code",
   "execution_count": 2,
   "metadata": {},
   "outputs": [
    {
     "name": "stdout",
     "output_type": "stream",
     "text": [
      "Number of filtered training examples: 12049\n",
      "Number of filtered test examples: 1968\n",
      "Number of unique images: 10387\n",
      "Number of unique 3s:  5426\n",
      "Number of unique 6s:  4912\n",
      "Number of unique contradicting labels (both 3 and 6):  49\n",
      "\n",
      "Initial number of images:  12049\n",
      "Remaining non-contradicting unique images:  10338\n"
     ]
    }
   ],
   "source": [
    "x_train, y_train, x_test, y_test = mnist_digits()"
   ]
  },
  {
   "cell_type": "code",
   "execution_count": 3,
   "metadata": {},
   "outputs": [
    {
     "name": "stdout",
     "output_type": "stream",
     "text": [
      "Epoch 1/100\n",
      "324/324 [==============================] - 0s 631us/step - loss: -4.3728 - accuracy: 0.0000e+00\n",
      "Epoch 2/100\n",
      "324/324 [==============================] - 0s 586us/step - loss: -4.9262 - accuracy: 0.0000e+00\n",
      "Epoch 3/100\n",
      "324/324 [==============================] - 0s 583us/step - loss: -5.1770 - accuracy: 0.0000e+00\n",
      "Epoch 4/100\n",
      "324/324 [==============================] - 0s 662us/step - loss: -5.2603 - accuracy: 0.0000e+00\n",
      "Epoch 5/100\n",
      "324/324 [==============================] - 0s 581us/step - loss: -5.3022 - accuracy: 0.0000e+00\n",
      "Epoch 6/100\n",
      "324/324 [==============================] - 0s 564us/step - loss: -5.3268 - accuracy: 0.0000e+00\n",
      "Epoch 7/100\n",
      "324/324 [==============================] - 0s 561us/step - loss: -5.3451 - accuracy: 0.0000e+00\n",
      "Epoch 8/100\n",
      "324/324 [==============================] - 0s 563us/step - loss: -5.3568 - accuracy: 1.9346e-04\n",
      "Epoch 9/100\n",
      "324/324 [==============================] - 0s 565us/step - loss: -5.3710 - accuracy: 0.0238\n",
      "Epoch 10/100\n",
      "324/324 [==============================] - 0s 567us/step - loss: -5.3978 - accuracy: 0.0592\n",
      "Epoch 11/100\n",
      "324/324 [==============================] - 0s 561us/step - loss: -5.4134 - accuracy: 0.0739\n",
      "Epoch 12/100\n",
      "324/324 [==============================] - 0s 560us/step - loss: -5.3728 - accuracy: 0.0000e+00\n",
      "Epoch 13/100\n",
      "324/324 [==============================] - 0s 563us/step - loss: -5.3843 - accuracy: 0.0000e+00\n",
      "Epoch 14/100\n",
      "324/324 [==============================] - 0s 561us/step - loss: -5.3955 - accuracy: 0.0000e+00\n",
      "Epoch 15/100\n",
      "324/324 [==============================] - 0s 567us/step - loss: -5.4129 - accuracy: 0.0000e+00\n",
      "Epoch 16/100\n",
      "324/324 [==============================] - 0s 566us/step - loss: -5.4281 - accuracy: 0.0000e+00\n",
      "Epoch 17/100\n",
      "324/324 [==============================] - 0s 562us/step - loss: -5.4383 - accuracy: 0.0300\n",
      "Epoch 18/100\n",
      "324/324 [==============================] - 0s 570us/step - loss: -5.4535 - accuracy: 0.0888\n",
      "Epoch 19/100\n",
      "324/324 [==============================] - 0s 567us/step - loss: -5.4661 - accuracy: 0.2029\n",
      "Epoch 20/100\n",
      "324/324 [==============================] - 0s 561us/step - loss: -5.4754 - accuracy: 0.2409\n",
      "Epoch 21/100\n",
      "324/324 [==============================] - 0s 578us/step - loss: -5.4871 - accuracy: 0.2490\n",
      "Epoch 22/100\n",
      "324/324 [==============================] - 0s 570us/step - loss: -5.5077 - accuracy: 0.2676\n",
      "Epoch 23/100\n",
      "324/324 [==============================] - 0s 574us/step - loss: -5.5230 - accuracy: 0.3338\n",
      "Epoch 24/100\n",
      "324/324 [==============================] - 0s 559us/step - loss: -5.5362 - accuracy: 0.3888\n",
      "Epoch 25/100\n",
      "324/324 [==============================] - 0s 576us/step - loss: -5.5532 - accuracy: 0.3890\n",
      "Epoch 26/100\n",
      "324/324 [==============================] - 0s 559us/step - loss: -5.5714 - accuracy: 0.3890\n",
      "Epoch 27/100\n",
      "324/324 [==============================] - 0s 561us/step - loss: -5.5904 - accuracy: 0.3906\n",
      "Epoch 28/100\n",
      "324/324 [==============================] - 0s 581us/step - loss: -5.6107 - accuracy: 0.4215\n",
      "Epoch 29/100\n",
      "324/324 [==============================] - 0s 566us/step - loss: -5.6285 - accuracy: 0.4288\n",
      "Epoch 30/100\n",
      "324/324 [==============================] - 0s 565us/step - loss: -5.6476 - accuracy: 0.4337\n",
      "Epoch 31/100\n",
      "324/324 [==============================] - 0s 560us/step - loss: -5.6656 - accuracy: 0.4554\n",
      "Epoch 32/100\n",
      "324/324 [==============================] - 0s 576us/step - loss: -5.6857 - accuracy: 0.4553\n",
      "Epoch 33/100\n",
      "324/324 [==============================] - 0s 559us/step - loss: -5.7229 - accuracy: 0.4551\n",
      "Epoch 34/100\n",
      "324/324 [==============================] - 0s 574us/step - loss: -5.7263 - accuracy: 0.4554\n",
      "Epoch 35/100\n",
      "324/324 [==============================] - 0s 629us/step - loss: -5.7476 - accuracy: 0.4554\n",
      "Epoch 36/100\n",
      "324/324 [==============================] - 0s 559us/step - loss: -5.7611 - accuracy: 0.4468\n",
      "Epoch 37/100\n",
      "324/324 [==============================] - 0s 551us/step - loss: -5.7807 - accuracy: 0.4524\n",
      "Epoch 38/100\n",
      "324/324 [==============================] - 0s 556us/step - loss: -5.7767 - accuracy: 0.4423\n",
      "Epoch 39/100\n",
      "324/324 [==============================] - 0s 560us/step - loss: -5.7787 - accuracy: 0.4272\n",
      "Epoch 40/100\n",
      "324/324 [==============================] - 0s 565us/step - loss: -5.7909 - accuracy: 0.4479\n",
      "Epoch 41/100\n",
      "324/324 [==============================] - 0s 560us/step - loss: -5.7848 - accuracy: 0.4371\n",
      "Epoch 42/100\n",
      "324/324 [==============================] - 0s 589us/step - loss: -5.7899 - accuracy: 0.4451\n",
      "Epoch 43/100\n",
      "324/324 [==============================] - 0s 554us/step - loss: -5.7947 - accuracy: 0.4554\n",
      "Epoch 44/100\n",
      "324/324 [==============================] - 0s 562us/step - loss: -5.7964 - accuracy: 0.4554\n",
      "Epoch 45/100\n",
      "324/324 [==============================] - 0s 591us/step - loss: -5.7973 - accuracy: 0.4554\n",
      "Epoch 46/100\n",
      "324/324 [==============================] - 0s 559us/step - loss: -5.7981 - accuracy: 0.4552\n",
      "Epoch 47/100\n",
      "324/324 [==============================] - 0s 554us/step - loss: -5.7985 - accuracy: 0.4554\n",
      "Epoch 48/100\n",
      "324/324 [==============================] - 0s 590us/step - loss: -5.7990 - accuracy: 0.4512\n",
      "Epoch 49/100\n",
      "324/324 [==============================] - 0s 560us/step - loss: -5.7660 - accuracy: 0.4554\n",
      "Epoch 50/100\n",
      "324/324 [==============================] - 0s 562us/step - loss: -5.6456 - accuracy: 0.4390\n",
      "Epoch 51/100\n",
      "324/324 [==============================] - 0s 561us/step - loss: -5.7338 - accuracy: 0.4323\n",
      "Epoch 52/100\n",
      "324/324 [==============================] - 0s 560us/step - loss: -5.7416 - accuracy: 0.4300\n",
      "Epoch 53/100\n",
      "324/324 [==============================] - 0s 559us/step - loss: -5.7444 - accuracy: 0.4300\n",
      "Epoch 54/100\n",
      "324/324 [==============================] - 0s 555us/step - loss: -5.7479 - accuracy: 0.4356\n",
      "Epoch 55/100\n",
      "324/324 [==============================] - 0s 562us/step - loss: -5.7471 - accuracy: 0.4554\n",
      "Epoch 56/100\n",
      "324/324 [==============================] - 0s 557us/step - loss: -5.7541 - accuracy: 0.4552\n",
      "Epoch 57/100\n",
      "324/324 [==============================] - 0s 554us/step - loss: -5.7574 - accuracy: 0.4554\n",
      "Epoch 58/100\n",
      "324/324 [==============================] - 0s 557us/step - loss: -5.7577 - accuracy: 0.4545\n",
      "Epoch 59/100\n",
      "324/324 [==============================] - 0s 561us/step - loss: -5.7650 - accuracy: 0.4502\n",
      "Epoch 60/100\n",
      "324/324 [==============================] - 0s 554us/step - loss: -5.7911 - accuracy: 0.4325\n",
      "Epoch 61/100\n",
      "324/324 [==============================] - 0s 561us/step - loss: -5.7984 - accuracy: 0.4553\n",
      "Epoch 62/100\n",
      "324/324 [==============================] - 0s 597us/step - loss: -5.7988 - accuracy: 0.4554\n",
      "Epoch 63/100\n",
      "324/324 [==============================] - 0s 576us/step - loss: -5.7995 - accuracy: 0.4554\n",
      "Epoch 64/100\n",
      "324/324 [==============================] - 0s 642us/step - loss: -5.7996 - accuracy: 0.4554\n",
      "Epoch 65/100\n",
      "324/324 [==============================] - 0s 559us/step - loss: -5.8000 - accuracy: 0.4553\n",
      "Epoch 66/100\n",
      "324/324 [==============================] - 0s 600us/step - loss: -5.7999 - accuracy: 0.4503\n",
      "Epoch 67/100\n",
      "324/324 [==============================] - 0s 559us/step - loss: -5.7984 - accuracy: 0.4481\n",
      "Epoch 68/100\n",
      "324/324 [==============================] - 0s 557us/step - loss: -5.8003 - accuracy: 0.4531\n",
      "Epoch 69/100\n",
      "324/324 [==============================] - 0s 593us/step - loss: -5.7972 - accuracy: 0.4422\n",
      "Epoch 70/100\n",
      "324/324 [==============================] - 0s 556us/step - loss: -5.7987 - accuracy: 0.4465\n",
      "Epoch 71/100\n",
      "324/324 [==============================] - 0s 554us/step - loss: -5.8007 - accuracy: 0.4554\n",
      "Epoch 72/100\n",
      "324/324 [==============================] - 0s 557us/step - loss: -5.8010 - accuracy: 0.4482\n",
      "Epoch 73/100\n",
      "324/324 [==============================] - 0s 561us/step - loss: -5.7992 - accuracy: 0.4477\n",
      "Epoch 74/100\n",
      "324/324 [==============================] - 0s 557us/step - loss: -5.8015 - accuracy: 0.4554\n",
      "Epoch 75/100\n",
      "324/324 [==============================] - 0s 557us/step - loss: -5.8015 - accuracy: 0.4438\n",
      "Epoch 76/100\n",
      "324/324 [==============================] - 0s 559us/step - loss: -5.7498 - accuracy: 0.4494\n",
      "Epoch 77/100\n",
      "324/324 [==============================] - 0s 557us/step - loss: -5.7676 - accuracy: 0.4309\n",
      "Epoch 78/100\n",
      "324/324 [==============================] - 0s 563us/step - loss: -5.8009 - accuracy: 0.4364\n",
      "Epoch 79/100\n",
      "324/324 [==============================] - 0s 559us/step - loss: -5.8002 - accuracy: 0.4462\n",
      "Epoch 80/100\n",
      "324/324 [==============================] - 0s 563us/step - loss: -5.8005 - accuracy: 0.4489\n",
      "Epoch 81/100\n",
      "324/324 [==============================] - 0s 558us/step - loss: -5.8021 - accuracy: 0.4321\n",
      "Epoch 82/100\n",
      "324/324 [==============================] - 0s 563us/step - loss: -5.8027 - accuracy: 0.4465\n",
      "Epoch 83/100\n",
      "324/324 [==============================] - 0s 552us/step - loss: -5.8027 - accuracy: 0.4450\n",
      "Epoch 84/100\n",
      "324/324 [==============================] - 0s 560us/step - loss: -5.8027 - accuracy: 0.4423\n",
      "Epoch 85/100\n",
      "324/324 [==============================] - 0s 554us/step - loss: -5.8031 - accuracy: 0.4453\n",
      "Epoch 86/100\n",
      "324/324 [==============================] - 0s 557us/step - loss: -5.7868 - accuracy: 0.4357\n",
      "Epoch 87/100\n",
      "324/324 [==============================] - 0s 557us/step - loss: -5.6867 - accuracy: 0.4056\n",
      "Epoch 88/100\n",
      "324/324 [==============================] - 0s 553us/step - loss: -5.6683 - accuracy: 0.4064\n",
      "Epoch 89/100\n",
      "324/324 [==============================] - 0s 648us/step - loss: -5.7609 - accuracy: 0.4068\n",
      "Epoch 90/100\n",
      "324/324 [==============================] - 0s 618us/step - loss: -5.7788 - accuracy: 0.4071\n",
      "Epoch 91/100\n",
      "324/324 [==============================] - 0s 556us/step - loss: -5.7870 - accuracy: 0.4086\n",
      "Epoch 92/100\n",
      "324/324 [==============================] - 0s 572us/step - loss: -5.7925 - accuracy: 0.4180\n",
      "Epoch 93/100\n",
      "324/324 [==============================] - 0s 558us/step - loss: -5.7950 - accuracy: 0.4133\n",
      "Epoch 94/100\n",
      "324/324 [==============================] - 0s 560us/step - loss: -5.7992 - accuracy: 0.4214\n",
      "Epoch 95/100\n",
      "324/324 [==============================] - 0s 559us/step - loss: -5.8018 - accuracy: 0.4261\n",
      "Epoch 96/100\n",
      "324/324 [==============================] - 0s 558us/step - loss: -5.8034 - accuracy: 0.4279\n",
      "Epoch 97/100\n",
      "324/324 [==============================] - 0s 563us/step - loss: -5.8044 - accuracy: 0.4279\n",
      "Epoch 98/100\n",
      "324/324 [==============================] - 0s 554us/step - loss: -5.8033 - accuracy: 0.4279\n",
      "Epoch 99/100\n",
      "324/324 [==============================] - 0s 569us/step - loss: -5.8031 - accuracy: 0.4279\n",
      "Epoch 100/100\n",
      "324/324 [==============================] - 0s 556us/step - loss: -5.8052 - accuracy: 0.4329\n"
     ]
    }
   ],
   "source": [
    "neural_network = NeuralNetwork()\n",
    "neural_network.train(x_train, y_train)"
   ]
  },
  {
   "cell_type": "code",
   "execution_count": 4,
   "metadata": {},
   "outputs": [
    {
     "name": "stdout",
     "output_type": "stream",
     "text": [
      "324/324 [==============================] - 0s 543us/step - loss: 0.2629 - accuracy: 0.9082\n"
     ]
    },
    {
     "data": {
      "text/plain": [
       "[0.2629060745239258, 0.9082027673721313]"
      ]
     },
     "execution_count": 4,
     "metadata": {},
     "output_type": "execute_result"
    }
   ],
   "source": [
    "neural_network.model.evaluate(x_train, y_train)"
   ]
  },
  {
   "cell_type": "code",
   "execution_count": 5,
   "metadata": {},
   "outputs": [
    {
     "name": "stdout",
     "output_type": "stream",
     "text": [
      "62/62 [==============================] - 0s 602us/step - loss: 0.2780 - accuracy: 0.9202\n"
     ]
    },
    {
     "data": {
      "text/plain": [
       "[0.2779511511325836, 0.920223593711853]"
      ]
     },
     "execution_count": 5,
     "metadata": {},
     "output_type": "execute_result"
    }
   ],
   "source": [
    "neural_network.model.evaluate(x_test, y_test)"
   ]
  }
 ],
 "metadata": {
  "kernelspec": {
   "display_name": "quantum",
   "language": "python",
   "name": "python3"
  },
  "language_info": {
   "codemirror_mode": {
    "name": "ipython",
    "version": 3
   },
   "file_extension": ".py",
   "mimetype": "text/x-python",
   "name": "python",
   "nbconvert_exporter": "python",
   "pygments_lexer": "ipython3",
   "version": "3.10.11"
  },
  "orig_nbformat": 4
 },
 "nbformat": 4,
 "nbformat_minor": 2
}
