{
 "cells": [
  {
   "cell_type": "markdown",
   "metadata": {},
   "source": [
    "## Neural Network on $4 \\times 4$ downsampled MNIST Digits  \n",
    "Sebastian Molina  \n",
    "smolinad@unal.edu.co"
   ]
  },
  {
   "cell_type": "code",
   "execution_count": 1,
   "metadata": {},
   "outputs": [],
   "source": [
    "from mnist_preprocessing import preprocess_mnist_digits as mnist\n",
    "from classical_neural_network import NeuralNetwork"
   ]
  },
  {
   "cell_type": "code",
   "execution_count": 2,
   "metadata": {},
   "outputs": [
    {
     "name": "stdout",
     "output_type": "stream",
     "text": [
      "Number of filtered training examples: 12049\n",
      "Number of filtered test examples: 1968\n",
      "Number of unique images: 10387\n",
      "Number of unique 3s:  5426\n",
      "Number of unique 6s:  4912\n",
      "Number of unique contradicting labels (both 3 and 6):  49\n",
      "\n",
      "Initial number of images:  12049\n",
      "Remaining non-contradicting unique images:  10338\n"
     ]
    }
   ],
   "source": [
    "x_train, y_train, x_test, y_test = mnist()"
   ]
  },
  {
   "cell_type": "code",
   "execution_count": 3,
   "metadata": {},
   "outputs": [
    {
     "name": "stdout",
     "output_type": "stream",
     "text": [
      "Epoch 1/100\n",
      "324/324 [==============================] - 0s 607us/step - loss: 1.1545 - accuracy: 0.6168\n",
      "Epoch 2/100\n",
      "324/324 [==============================] - 0s 896us/step - loss: 0.3948 - accuracy: 0.8301\n",
      "Epoch 3/100\n",
      "324/324 [==============================] - 0s 1ms/step - loss: 0.3247 - accuracy: 0.8543\n",
      "Epoch 4/100\n",
      "324/324 [==============================] - 0s 611us/step - loss: 0.2993 - accuracy: 0.8647\n",
      "Epoch 5/100\n",
      "324/324 [==============================] - 0s 553us/step - loss: 0.2892 - accuracy: 0.8712\n",
      "Epoch 6/100\n",
      "324/324 [==============================] - 0s 554us/step - loss: 0.2846 - accuracy: 0.8768\n",
      "Epoch 7/100\n",
      "324/324 [==============================] - 0s 551us/step - loss: 0.2775 - accuracy: 0.8991\n",
      "Epoch 8/100\n",
      "324/324 [==============================] - 0s 553us/step - loss: 0.2859 - accuracy: 0.9057\n",
      "Epoch 9/100\n",
      "324/324 [==============================] - 0s 553us/step - loss: 0.2822 - accuracy: 0.9068\n",
      "Epoch 10/100\n",
      "324/324 [==============================] - 0s 545us/step - loss: 0.2802 - accuracy: 0.9078\n",
      "Epoch 11/100\n",
      "324/324 [==============================] - 0s 543us/step - loss: 0.2749 - accuracy: 0.9082\n",
      "Epoch 12/100\n",
      "324/324 [==============================] - 0s 544us/step - loss: 0.2727 - accuracy: 0.9080\n",
      "Epoch 13/100\n",
      "324/324 [==============================] - 0s 542us/step - loss: 0.2709 - accuracy: 0.9082\n",
      "Epoch 14/100\n",
      "324/324 [==============================] - 0s 547us/step - loss: 0.2703 - accuracy: 0.9082\n",
      "Epoch 15/100\n",
      "324/324 [==============================] - 0s 546us/step - loss: 0.2692 - accuracy: 0.9082\n",
      "Epoch 16/100\n",
      "324/324 [==============================] - 0s 547us/step - loss: 0.2687 - accuracy: 0.9083\n",
      "Epoch 17/100\n",
      "324/324 [==============================] - 0s 545us/step - loss: 0.2694 - accuracy: 0.9083\n",
      "Epoch 18/100\n",
      "324/324 [==============================] - 0s 548us/step - loss: 0.2692 - accuracy: 0.9082\n",
      "Epoch 19/100\n",
      "324/324 [==============================] - 0s 538us/step - loss: 0.2683 - accuracy: 0.9082\n",
      "Epoch 20/100\n",
      "324/324 [==============================] - 0s 549us/step - loss: 0.2676 - accuracy: 0.9082\n",
      "Epoch 21/100\n",
      "324/324 [==============================] - 0s 545us/step - loss: 0.2671 - accuracy: 0.9083\n",
      "Epoch 22/100\n",
      "324/324 [==============================] - 0s 544us/step - loss: 0.2669 - accuracy: 0.9084\n",
      "Epoch 23/100\n",
      "324/324 [==============================] - 0s 548us/step - loss: 0.2665 - accuracy: 0.9083\n",
      "Epoch 24/100\n",
      "324/324 [==============================] - 0s 545us/step - loss: 0.2660 - accuracy: 0.9078\n",
      "Epoch 25/100\n",
      "324/324 [==============================] - 0s 543us/step - loss: 0.2645 - accuracy: 0.9083\n",
      "Epoch 26/100\n",
      "324/324 [==============================] - 0s 547us/step - loss: 0.2653 - accuracy: 0.9083\n",
      "Epoch 27/100\n",
      "324/324 [==============================] - 0s 543us/step - loss: 0.2653 - accuracy: 0.9083\n",
      "Epoch 28/100\n",
      "324/324 [==============================] - 0s 566us/step - loss: 0.2650 - accuracy: 0.9084\n",
      "Epoch 29/100\n",
      "324/324 [==============================] - 0s 696us/step - loss: 0.2655 - accuracy: 0.9083\n",
      "Epoch 30/100\n",
      "324/324 [==============================] - 0s 629us/step - loss: 0.2784 - accuracy: 0.9086\n",
      "Epoch 31/100\n",
      "324/324 [==============================] - 0s 568us/step - loss: 0.2688 - accuracy: 0.9065\n",
      "Epoch 32/100\n",
      "324/324 [==============================] - 0s 559us/step - loss: 0.2643 - accuracy: 0.9084\n",
      "Epoch 33/100\n",
      "324/324 [==============================] - 0s 565us/step - loss: 0.2660 - accuracy: 0.9083\n",
      "Epoch 34/100\n",
      "324/324 [==============================] - 0s 562us/step - loss: 0.2655 - accuracy: 0.9083\n",
      "Epoch 35/100\n",
      "324/324 [==============================] - 0s 562us/step - loss: 0.2650 - accuracy: 0.9083\n",
      "Epoch 36/100\n",
      "324/324 [==============================] - 0s 558us/step - loss: 0.2633 - accuracy: 0.9083\n",
      "Epoch 37/100\n",
      "324/324 [==============================] - 0s 560us/step - loss: 0.2634 - accuracy: 0.9083\n",
      "Epoch 38/100\n",
      "324/324 [==============================] - 0s 559us/step - loss: 0.2646 - accuracy: 0.9083\n",
      "Epoch 39/100\n",
      "324/324 [==============================] - 0s 561us/step - loss: 0.2642 - accuracy: 0.9083\n",
      "Epoch 40/100\n",
      "324/324 [==============================] - 0s 562us/step - loss: 0.2641 - accuracy: 0.9084\n",
      "Epoch 41/100\n",
      "324/324 [==============================] - 0s 560us/step - loss: 0.2641 - accuracy: 0.9080\n",
      "Epoch 42/100\n",
      "324/324 [==============================] - 0s 568us/step - loss: 0.2634 - accuracy: 0.9083\n",
      "Epoch 43/100\n",
      "324/324 [==============================] - 0s 564us/step - loss: 0.2654 - accuracy: 0.9083\n",
      "Epoch 44/100\n",
      "324/324 [==============================] - 0s 562us/step - loss: 0.2659 - accuracy: 0.9075\n",
      "Epoch 45/100\n",
      "324/324 [==============================] - 0s 561us/step - loss: 0.2726 - accuracy: 0.9085\n",
      "Epoch 46/100\n",
      "324/324 [==============================] - 0s 558us/step - loss: 0.2624 - accuracy: 0.9083\n",
      "Epoch 47/100\n",
      "324/324 [==============================] - 0s 558us/step - loss: 0.2620 - accuracy: 0.9083\n",
      "Epoch 48/100\n",
      "324/324 [==============================] - 0s 561us/step - loss: 0.2629 - accuracy: 0.9079\n",
      "Epoch 49/100\n",
      "324/324 [==============================] - 0s 557us/step - loss: 0.2631 - accuracy: 0.9079\n",
      "Epoch 50/100\n",
      "324/324 [==============================] - 0s 559us/step - loss: 0.2633 - accuracy: 0.9079\n",
      "Epoch 51/100\n",
      "324/324 [==============================] - 0s 558us/step - loss: 0.2679 - accuracy: 0.9083\n",
      "Epoch 52/100\n",
      "324/324 [==============================] - 0s 563us/step - loss: 0.2644 - accuracy: 0.9079\n",
      "Epoch 53/100\n",
      "324/324 [==============================] - 0s 561us/step - loss: 0.2635 - accuracy: 0.9084\n",
      "Epoch 54/100\n",
      "324/324 [==============================] - 0s 558us/step - loss: 0.2620 - accuracy: 0.9086\n",
      "Epoch 55/100\n",
      "324/324 [==============================] - 0s 563us/step - loss: 0.2629 - accuracy: 0.9082\n",
      "Epoch 56/100\n",
      "324/324 [==============================] - 0s 563us/step - loss: 0.2615 - accuracy: 0.9083\n",
      "Epoch 57/100\n",
      "324/324 [==============================] - 0s 565us/step - loss: 0.2614 - accuracy: 0.9083\n",
      "Epoch 58/100\n",
      "324/324 [==============================] - 0s 564us/step - loss: 0.2660 - accuracy: 0.9085\n",
      "Epoch 59/100\n",
      "324/324 [==============================] - 0s 555us/step - loss: 0.2649 - accuracy: 0.9092\n",
      "Epoch 60/100\n",
      "324/324 [==============================] - 0s 558us/step - loss: 0.2595 - accuracy: 0.9078\n",
      "Epoch 61/100\n",
      "324/324 [==============================] - 0s 635us/step - loss: 0.2626 - accuracy: 0.9065\n",
      "Epoch 62/100\n",
      "324/324 [==============================] - 0s 557us/step - loss: 0.2636 - accuracy: 0.9080\n",
      "Epoch 63/100\n",
      "324/324 [==============================] - 0s 561us/step - loss: 0.2614 - accuracy: 0.9085\n",
      "Epoch 64/100\n",
      "324/324 [==============================] - 0s 559us/step - loss: 0.2610 - accuracy: 0.9081\n",
      "Epoch 65/100\n",
      "324/324 [==============================] - 0s 559us/step - loss: 0.2605 - accuracy: 0.9083\n",
      "Epoch 66/100\n",
      "324/324 [==============================] - 0s 562us/step - loss: 0.2615 - accuracy: 0.9083\n",
      "Epoch 67/100\n",
      "324/324 [==============================] - 0s 581us/step - loss: 0.2605 - accuracy: 0.9083\n",
      "Epoch 68/100\n",
      "324/324 [==============================] - 0s 594us/step - loss: 0.2616 - accuracy: 0.9083\n",
      "Epoch 69/100\n",
      "324/324 [==============================] - 0s 564us/step - loss: 0.2654 - accuracy: 0.9083\n",
      "Epoch 70/100\n",
      "324/324 [==============================] - 0s 578us/step - loss: 0.2640 - accuracy: 0.9076\n",
      "Epoch 71/100\n",
      "324/324 [==============================] - 0s 587us/step - loss: 0.2627 - accuracy: 0.9078\n",
      "Epoch 72/100\n",
      "324/324 [==============================] - 0s 566us/step - loss: 0.2614 - accuracy: 0.9084\n",
      "Epoch 73/100\n",
      "324/324 [==============================] - 0s 557us/step - loss: 0.2614 - accuracy: 0.9076\n",
      "Epoch 74/100\n",
      "324/324 [==============================] - 0s 587us/step - loss: 0.2605 - accuracy: 0.9083\n",
      "Epoch 75/100\n",
      "324/324 [==============================] - 0s 882us/step - loss: 0.2619 - accuracy: 0.9078\n",
      "Epoch 76/100\n",
      "324/324 [==============================] - 0s 614us/step - loss: 0.2622 - accuracy: 0.9077\n",
      "Epoch 77/100\n",
      "324/324 [==============================] - 0s 626us/step - loss: 0.2623 - accuracy: 0.9084\n",
      "Epoch 78/100\n",
      "324/324 [==============================] - 0s 592us/step - loss: 0.2603 - accuracy: 0.9087\n",
      "Epoch 79/100\n",
      "324/324 [==============================] - 0s 568us/step - loss: 0.2604 - accuracy: 0.9079\n",
      "Epoch 80/100\n",
      "324/324 [==============================] - 0s 581us/step - loss: 0.2616 - accuracy: 0.9085\n",
      "Epoch 81/100\n",
      "324/324 [==============================] - 0s 566us/step - loss: 0.2604 - accuracy: 0.9080\n",
      "Epoch 82/100\n",
      "324/324 [==============================] - 0s 632us/step - loss: 0.2607 - accuracy: 0.9084\n",
      "Epoch 83/100\n",
      "324/324 [==============================] - 0s 859us/step - loss: 0.2629 - accuracy: 0.9064\n",
      "Epoch 84/100\n",
      "324/324 [==============================] - 0s 613us/step - loss: 0.2624 - accuracy: 0.9069\n",
      "Epoch 85/100\n",
      "324/324 [==============================] - 0s 664us/step - loss: 0.2615 - accuracy: 0.9083\n",
      "Epoch 86/100\n",
      "324/324 [==============================] - 0s 605us/step - loss: 0.2612 - accuracy: 0.9080\n",
      "Epoch 87/100\n",
      "324/324 [==============================] - 0s 573us/step - loss: 0.2621 - accuracy: 0.9082\n",
      "Epoch 88/100\n",
      "324/324 [==============================] - 0s 614us/step - loss: 0.2604 - accuracy: 0.9077\n",
      "Epoch 89/100\n",
      "324/324 [==============================] - 0s 578us/step - loss: 0.2603 - accuracy: 0.9083\n",
      "Epoch 90/100\n",
      "324/324 [==============================] - 0s 576us/step - loss: 0.2605 - accuracy: 0.9080\n",
      "Epoch 91/100\n",
      "324/324 [==============================] - 0s 631us/step - loss: 0.2618 - accuracy: 0.9071\n",
      "Epoch 92/100\n",
      "324/324 [==============================] - 0s 561us/step - loss: 0.2607 - accuracy: 0.9083\n",
      "Epoch 93/100\n",
      "324/324 [==============================] - 0s 565us/step - loss: 0.2626 - accuracy: 0.9068\n",
      "Epoch 94/100\n",
      "324/324 [==============================] - 0s 565us/step - loss: 0.2609 - accuracy: 0.9083\n",
      "Epoch 95/100\n",
      "324/324 [==============================] - 0s 612us/step - loss: 0.2603 - accuracy: 0.9080\n",
      "Epoch 96/100\n",
      "324/324 [==============================] - 0s 585us/step - loss: 0.2603 - accuracy: 0.9077\n",
      "Epoch 97/100\n",
      "324/324 [==============================] - 0s 619us/step - loss: 0.2606 - accuracy: 0.9086\n",
      "Epoch 98/100\n",
      "324/324 [==============================] - 0s 595us/step - loss: 0.2603 - accuracy: 0.9081\n",
      "Epoch 99/100\n",
      "324/324 [==============================] - 0s 626us/step - loss: 0.2621 - accuracy: 0.9077\n",
      "Epoch 100/100\n",
      "324/324 [==============================] - 0s 761us/step - loss: 0.2621 - accuracy: 0.9072\n"
     ]
    }
   ],
   "source": [
    "neural_network = NeuralNetwork()\n",
    "neural_network.train(x_train, y_train)"
   ]
  },
  {
   "cell_type": "code",
   "execution_count": 4,
   "metadata": {},
   "outputs": [
    {
     "name": "stdout",
     "output_type": "stream",
     "text": [
      "324/324 [==============================] - 0s 543us/step - loss: 0.2629 - accuracy: 0.9082\n"
     ]
    },
    {
     "data": {
      "text/plain": [
       "[0.2629060745239258, 0.9082027673721313]"
      ]
     },
     "execution_count": 4,
     "metadata": {},
     "output_type": "execute_result"
    }
   ],
   "source": [
    "neural_network.model.evaluate(x_train, y_train)"
   ]
  },
  {
   "cell_type": "code",
   "execution_count": 5,
   "metadata": {},
   "outputs": [
    {
     "name": "stdout",
     "output_type": "stream",
     "text": [
      "62/62 [==============================] - 0s 602us/step - loss: 0.2780 - accuracy: 0.9202\n"
     ]
    },
    {
     "data": {
      "text/plain": [
       "[0.2779511511325836, 0.920223593711853]"
      ]
     },
     "execution_count": 5,
     "metadata": {},
     "output_type": "execute_result"
    }
   ],
   "source": [
    "neural_network.model.evaluate(x_test, y_test)"
   ]
  },
  {
   "cell_type": "code",
   "execution_count": null,
   "metadata": {},
   "outputs": [],
   "source": []
  }
 ],
 "metadata": {
  "kernelspec": {
   "display_name": "quantum",
   "language": "python",
   "name": "python3"
  },
  "language_info": {
   "codemirror_mode": {
    "name": "ipython",
    "version": 3
   },
   "file_extension": ".py",
   "mimetype": "text/x-python",
   "name": "python",
   "nbconvert_exporter": "python",
   "pygments_lexer": "ipython3",
   "version": "3.10.11"
  },
  "orig_nbformat": 4
 },
 "nbformat": 4,
 "nbformat_minor": 2
}
