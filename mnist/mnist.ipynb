{
 "cells": [
  {
   "cell_type": "markdown",
   "metadata": {},
   "source": [
    "## Neural Network on $4 \\times 4$ downsampled MNIST Digits  \n",
    "Sebastian Molina  \n",
    "smolinad@unal.edu.co"
   ]
  },
  {
   "cell_type": "code",
   "execution_count": 1,
   "metadata": {},
   "outputs": [],
   "source": [
    "from mnist_preprocessing import preprocess_mnist_digits as mnist\n",
    "from classical_neural_network import NeuralNetwork"
   ]
  },
  {
   "cell_type": "code",
   "execution_count": 2,
   "metadata": {},
   "outputs": [
    {
     "name": "stdout",
     "output_type": "stream",
     "text": [
      "Number of filtered training examples: 12049\n",
      "Number of filtered test examples: 1968\n",
      "Number of unique images: 10387\n",
      "Number of unique 3s:  5426\n",
      "Number of unique 6s:  4912\n",
      "Number of unique contradicting labels (both 3 and 6):  49\n",
      "\n",
      "Initial number of images:  12049\n",
      "Remaining non-contradicting unique images:  10338\n"
     ]
    }
   ],
   "source": [
    "x_train, y_train, x_test, y_test = mnist()"
   ]
  },
  {
   "cell_type": "code",
   "execution_count": 3,
   "metadata": {},
   "outputs": [
    {
     "name": "stdout",
     "output_type": "stream",
     "text": [
      "Epoch 1/100\n",
      "324/324 [==============================] - 0s 551us/step - loss: 0.5525 - accuracy: 0.8434\n",
      "Epoch 2/100\n",
      "324/324 [==============================] - 0s 514us/step - loss: 0.2566 - accuracy: 0.9037\n",
      "Epoch 3/100\n",
      "324/324 [==============================] - 0s 603us/step - loss: 0.2309 - accuracy: 0.9043\n",
      "Epoch 4/100\n",
      "324/324 [==============================] - 0s 501us/step - loss: 0.2242 - accuracy: 0.9060\n",
      "Epoch 5/100\n",
      "324/324 [==============================] - 0s 500us/step - loss: 0.2206 - accuracy: 0.9060\n",
      "Epoch 6/100\n",
      "324/324 [==============================] - 0s 549us/step - loss: 0.2189 - accuracy: 0.9069\n",
      "Epoch 7/100\n",
      "324/324 [==============================] - 0s 498us/step - loss: 0.2174 - accuracy: 0.9062\n",
      "Epoch 8/100\n",
      "324/324 [==============================] - 0s 498us/step - loss: 0.2169 - accuracy: 0.9055\n",
      "Epoch 9/100\n",
      "324/324 [==============================] - 0s 499us/step - loss: 0.2160 - accuracy: 0.9069\n",
      "Epoch 10/100\n",
      "324/324 [==============================] - 0s 552us/step - loss: 0.2157 - accuracy: 0.9059\n",
      "Epoch 11/100\n",
      "324/324 [==============================] - 0s 492us/step - loss: 0.2151 - accuracy: 0.9084\n",
      "Epoch 12/100\n",
      "324/324 [==============================] - 0s 495us/step - loss: 0.2147 - accuracy: 0.9072\n",
      "Epoch 13/100\n",
      "324/324 [==============================] - 0s 498us/step - loss: 0.2145 - accuracy: 0.9068\n",
      "Epoch 14/100\n",
      "324/324 [==============================] - 0s 560us/step - loss: 0.2143 - accuracy: 0.9060\n",
      "Epoch 15/100\n",
      "324/324 [==============================] - 0s 500us/step - loss: 0.2140 - accuracy: 0.9076\n",
      "Epoch 16/100\n",
      "324/324 [==============================] - 0s 498us/step - loss: 0.2141 - accuracy: 0.9077\n",
      "Epoch 17/100\n",
      "324/324 [==============================] - 0s 493us/step - loss: 0.2134 - accuracy: 0.9082\n",
      "Epoch 18/100\n",
      "324/324 [==============================] - 0s 497us/step - loss: 0.2134 - accuracy: 0.9071\n",
      "Epoch 19/100\n",
      "324/324 [==============================] - 0s 490us/step - loss: 0.2126 - accuracy: 0.9083\n",
      "Epoch 20/100\n",
      "324/324 [==============================] - 0s 489us/step - loss: 0.2132 - accuracy: 0.9073\n",
      "Epoch 21/100\n",
      "324/324 [==============================] - 0s 505us/step - loss: 0.2125 - accuracy: 0.9067\n",
      "Epoch 22/100\n",
      "324/324 [==============================] - 0s 489us/step - loss: 0.2120 - accuracy: 0.9071\n",
      "Epoch 23/100\n",
      "324/324 [==============================] - 0s 489us/step - loss: 0.2125 - accuracy: 0.9070\n",
      "Epoch 24/100\n",
      "324/324 [==============================] - 0s 492us/step - loss: 0.2116 - accuracy: 0.9083\n",
      "Epoch 25/100\n",
      "324/324 [==============================] - 0s 492us/step - loss: 0.2114 - accuracy: 0.9080\n",
      "Epoch 26/100\n",
      "324/324 [==============================] - 0s 488us/step - loss: 0.2114 - accuracy: 0.9063\n",
      "Epoch 27/100\n",
      "324/324 [==============================] - 0s 492us/step - loss: 0.2111 - accuracy: 0.9082\n",
      "Epoch 28/100\n",
      "324/324 [==============================] - 0s 489us/step - loss: 0.2109 - accuracy: 0.9081\n",
      "Epoch 29/100\n",
      "324/324 [==============================] - 0s 489us/step - loss: 0.2104 - accuracy: 0.9067\n",
      "Epoch 30/100\n",
      "324/324 [==============================] - 0s 491us/step - loss: 0.2100 - accuracy: 0.9074\n",
      "Epoch 31/100\n",
      "324/324 [==============================] - 0s 488us/step - loss: 0.2103 - accuracy: 0.9073\n",
      "Epoch 32/100\n",
      "324/324 [==============================] - 0s 486us/step - loss: 0.2098 - accuracy: 0.9078\n",
      "Epoch 33/100\n",
      "324/324 [==============================] - 0s 490us/step - loss: 0.2098 - accuracy: 0.9068\n",
      "Epoch 34/100\n",
      "324/324 [==============================] - 0s 717us/step - loss: 0.2096 - accuracy: 0.9077\n",
      "Epoch 35/100\n",
      "324/324 [==============================] - 0s 529us/step - loss: 0.2098 - accuracy: 0.9079\n",
      "Epoch 36/100\n",
      "324/324 [==============================] - 0s 507us/step - loss: 0.2096 - accuracy: 0.9078\n",
      "Epoch 37/100\n",
      "324/324 [==============================] - 0s 513us/step - loss: 0.2095 - accuracy: 0.9081\n",
      "Epoch 38/100\n",
      "324/324 [==============================] - 0s 505us/step - loss: 0.2094 - accuracy: 0.9077\n",
      "Epoch 39/100\n",
      "324/324 [==============================] - 0s 535us/step - loss: 0.2091 - accuracy: 0.9072\n",
      "Epoch 40/100\n",
      "324/324 [==============================] - 0s 520us/step - loss: 0.2090 - accuracy: 0.9076\n",
      "Epoch 41/100\n",
      "324/324 [==============================] - 0s 521us/step - loss: 0.2091 - accuracy: 0.9073\n",
      "Epoch 42/100\n",
      "324/324 [==============================] - 0s 513us/step - loss: 0.2092 - accuracy: 0.9079\n",
      "Epoch 43/100\n",
      "324/324 [==============================] - 0s 520us/step - loss: 0.2092 - accuracy: 0.9076\n",
      "Epoch 44/100\n",
      "324/324 [==============================] - 0s 505us/step - loss: 0.2090 - accuracy: 0.9073\n",
      "Epoch 45/100\n",
      "324/324 [==============================] - 0s 508us/step - loss: 0.2088 - accuracy: 0.9078\n",
      "Epoch 46/100\n",
      "324/324 [==============================] - 0s 512us/step - loss: 0.2087 - accuracy: 0.9079\n",
      "Epoch 47/100\n",
      "324/324 [==============================] - 0s 517us/step - loss: 0.2087 - accuracy: 0.9085\n",
      "Epoch 48/100\n",
      "324/324 [==============================] - 0s 508us/step - loss: 0.2088 - accuracy: 0.9086\n",
      "Epoch 49/100\n",
      "324/324 [==============================] - 0s 512us/step - loss: 0.2087 - accuracy: 0.9079\n",
      "Epoch 50/100\n",
      "324/324 [==============================] - 0s 506us/step - loss: 0.2088 - accuracy: 0.9087\n",
      "Epoch 51/100\n",
      "324/324 [==============================] - 0s 506us/step - loss: 0.2088 - accuracy: 0.9081\n",
      "Epoch 52/100\n",
      "324/324 [==============================] - 0s 507us/step - loss: 0.2088 - accuracy: 0.9073\n",
      "Epoch 53/100\n",
      "324/324 [==============================] - 0s 592us/step - loss: 0.2089 - accuracy: 0.9075\n",
      "Epoch 54/100\n",
      "324/324 [==============================] - 0s 513us/step - loss: 0.2086 - accuracy: 0.9082\n",
      "Epoch 55/100\n",
      "324/324 [==============================] - 0s 597us/step - loss: 0.2089 - accuracy: 0.9081\n",
      "Epoch 56/100\n",
      "324/324 [==============================] - 0s 492us/step - loss: 0.2086 - accuracy: 0.9077\n",
      "Epoch 57/100\n",
      "324/324 [==============================] - 0s 506us/step - loss: 0.2086 - accuracy: 0.9080\n",
      "Epoch 58/100\n",
      "324/324 [==============================] - 0s 498us/step - loss: 0.2085 - accuracy: 0.9078\n",
      "Epoch 59/100\n",
      "324/324 [==============================] - 0s 497us/step - loss: 0.2086 - accuracy: 0.9080\n",
      "Epoch 60/100\n",
      "324/324 [==============================] - 0s 494us/step - loss: 0.2083 - accuracy: 0.9081\n",
      "Epoch 61/100\n",
      "324/324 [==============================] - 0s 493us/step - loss: 0.2089 - accuracy: 0.9076\n",
      "Epoch 62/100\n",
      "324/324 [==============================] - 0s 533us/step - loss: 0.2087 - accuracy: 0.9079\n",
      "Epoch 63/100\n",
      "324/324 [==============================] - 0s 548us/step - loss: 0.2084 - accuracy: 0.9080\n",
      "Epoch 64/100\n",
      "324/324 [==============================] - 0s 511us/step - loss: 0.2085 - accuracy: 0.9072\n",
      "Epoch 65/100\n",
      "324/324 [==============================] - 0s 509us/step - loss: 0.2085 - accuracy: 0.9080\n",
      "Epoch 66/100\n",
      "324/324 [==============================] - 0s 608us/step - loss: 0.2084 - accuracy: 0.9079\n",
      "Epoch 67/100\n",
      "324/324 [==============================] - 0s 504us/step - loss: 0.2085 - accuracy: 0.9082\n",
      "Epoch 68/100\n",
      "324/324 [==============================] - 0s 509us/step - loss: 0.2083 - accuracy: 0.9082\n",
      "Epoch 69/100\n",
      "324/324 [==============================] - 0s 502us/step - loss: 0.2083 - accuracy: 0.9086\n",
      "Epoch 70/100\n",
      "324/324 [==============================] - 0s 502us/step - loss: 0.2083 - accuracy: 0.9081\n",
      "Epoch 71/100\n",
      "324/324 [==============================] - 0s 512us/step - loss: 0.2082 - accuracy: 0.9084\n",
      "Epoch 72/100\n",
      "324/324 [==============================] - 0s 519us/step - loss: 0.2079 - accuracy: 0.9074\n",
      "Epoch 73/100\n",
      "324/324 [==============================] - 0s 504us/step - loss: 0.2085 - accuracy: 0.9089\n",
      "Epoch 74/100\n",
      "324/324 [==============================] - 0s 507us/step - loss: 0.2084 - accuracy: 0.9076\n",
      "Epoch 75/100\n",
      "324/324 [==============================] - 0s 503us/step - loss: 0.2085 - accuracy: 0.9079\n",
      "Epoch 76/100\n",
      "324/324 [==============================] - 0s 501us/step - loss: 0.2091 - accuracy: 0.9077\n",
      "Epoch 77/100\n",
      "324/324 [==============================] - 0s 503us/step - loss: 0.2081 - accuracy: 0.9077\n",
      "Epoch 78/100\n",
      "324/324 [==============================] - 0s 518us/step - loss: 0.2086 - accuracy: 0.9077\n",
      "Epoch 79/100\n",
      "324/324 [==============================] - 0s 563us/step - loss: 0.2080 - accuracy: 0.9083\n",
      "Epoch 80/100\n",
      "324/324 [==============================] - 0s 575us/step - loss: 0.2084 - accuracy: 0.9083\n",
      "Epoch 81/100\n",
      "324/324 [==============================] - 0s 520us/step - loss: 0.2082 - accuracy: 0.9082\n",
      "Epoch 82/100\n",
      "324/324 [==============================] - 0s 616us/step - loss: 0.2083 - accuracy: 0.9079\n",
      "Epoch 83/100\n",
      "324/324 [==============================] - 0s 504us/step - loss: 0.2083 - accuracy: 0.9075\n",
      "Epoch 84/100\n",
      "324/324 [==============================] - 0s 503us/step - loss: 0.2083 - accuracy: 0.9083\n",
      "Epoch 85/100\n",
      "324/324 [==============================] - 0s 498us/step - loss: 0.2084 - accuracy: 0.9076\n",
      "Epoch 86/100\n",
      "324/324 [==============================] - 0s 505us/step - loss: 0.2082 - accuracy: 0.9085\n",
      "Epoch 87/100\n",
      "324/324 [==============================] - 0s 511us/step - loss: 0.2084 - accuracy: 0.9085\n",
      "Epoch 88/100\n",
      "324/324 [==============================] - 0s 504us/step - loss: 0.2083 - accuracy: 0.9082\n",
      "Epoch 89/100\n",
      "324/324 [==============================] - 0s 508us/step - loss: 0.2080 - accuracy: 0.9071\n",
      "Epoch 90/100\n",
      "324/324 [==============================] - 0s 500us/step - loss: 0.2082 - accuracy: 0.9084\n",
      "Epoch 91/100\n",
      "324/324 [==============================] - 0s 508us/step - loss: 0.2079 - accuracy: 0.9085\n",
      "Epoch 92/100\n",
      "324/324 [==============================] - 0s 506us/step - loss: 0.2081 - accuracy: 0.9082\n",
      "Epoch 93/100\n",
      "324/324 [==============================] - 0s 494us/step - loss: 0.2081 - accuracy: 0.9081\n",
      "Epoch 94/100\n",
      "324/324 [==============================] - 0s 494us/step - loss: 0.2080 - accuracy: 0.9076\n",
      "Epoch 95/100\n",
      "324/324 [==============================] - 0s 489us/step - loss: 0.2083 - accuracy: 0.9081\n",
      "Epoch 96/100\n",
      "324/324 [==============================] - 0s 489us/step - loss: 0.2081 - accuracy: 0.9085\n",
      "Epoch 97/100\n",
      "324/324 [==============================] - 0s 561us/step - loss: 0.2083 - accuracy: 0.9088\n",
      "Epoch 98/100\n",
      "324/324 [==============================] - 0s 775us/step - loss: 0.2083 - accuracy: 0.9087\n",
      "Epoch 99/100\n",
      "324/324 [==============================] - 0s 693us/step - loss: 0.2080 - accuracy: 0.9069\n",
      "Epoch 100/100\n",
      "324/324 [==============================] - 0s 541us/step - loss: 0.2083 - accuracy: 0.9086\n"
     ]
    }
   ],
   "source": [
    "neural_network = NeuralNetwork()\n",
    "neural_network.train(x_train, y_train)"
   ]
  },
  {
   "cell_type": "code",
   "execution_count": 5,
   "metadata": {},
   "outputs": [
    {
     "name": "stdout",
     "output_type": "stream",
     "text": [
      "324/324 [==============================] - 0s 514us/step - loss: 0.2073 - accuracy: 0.9085\n"
     ]
    },
    {
     "data": {
      "text/plain": [
       "[0.20728738605976105, 0.908492922782898]"
      ]
     },
     "execution_count": 5,
     "metadata": {},
     "output_type": "execute_result"
    }
   ],
   "source": [
    "neural_network.model.evaluate(x_train, y_train)"
   ]
  },
  {
   "cell_type": "code",
   "execution_count": 6,
   "metadata": {},
   "outputs": [
    {
     "name": "stdout",
     "output_type": "stream",
     "text": [
      "62/62 [==============================] - 0s 461us/step - loss: 0.2093 - accuracy: 0.9207\n"
     ]
    },
    {
     "data": {
      "text/plain": [
       "[0.20932933688163757, 0.9207317233085632]"
      ]
     },
     "execution_count": 6,
     "metadata": {},
     "output_type": "execute_result"
    }
   ],
   "source": [
    "neural_network.model.evaluate(x_test, y_test)"
   ]
  }
 ],
 "metadata": {
  "kernelspec": {
   "display_name": "quantum",
   "language": "python",
   "name": "python3"
  },
  "language_info": {
   "codemirror_mode": {
    "name": "ipython",
    "version": 3
   },
   "file_extension": ".py",
   "mimetype": "text/x-python",
   "name": "python",
   "nbconvert_exporter": "python",
   "pygments_lexer": "ipython3",
   "version": "3.10.11"
  },
  "orig_nbformat": 4
 },
 "nbformat": 4,
 "nbformat_minor": 2
}
