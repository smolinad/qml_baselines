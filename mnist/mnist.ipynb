{
 "cells": [
  {
   "cell_type": "markdown",
   "metadata": {},
   "source": [
    "## Quantum Neural Network on $4 \\times 4$ downsampled MNIST Digits  \n",
    "Sebastian Molina  \n",
    "smolinad@unal.edu.co"
   ]
  },
  {
   "cell_type": "code",
   "execution_count": 6,
   "metadata": {},
   "outputs": [],
   "source": [
    "from mnist_preprocessing import preprocess_mnist_digits as mnist_digits\n",
    "from classical_neural_network import NeuralNetwork\n",
    "from quantum_neural_network import QuantumNeuralNetwork\n",
    "import tensorcircuit as tc\n",
    "import tensorflow as tf"
   ]
  },
  {
   "cell_type": "code",
   "execution_count": 7,
   "metadata": {},
   "outputs": [
    {
     "name": "stdout",
     "output_type": "stream",
     "text": [
      "Number of filtered training examples: 12049\n",
      "Number of filtered test examples: 1968\n",
      "Number of unique images: 10387\n",
      "Number of unique 3s:  5426\n",
      "Number of unique 6s:  4912\n",
      "Number of unique contradicting labels (both 3 and 6):  49\n",
      "\n",
      "Initial number of images:  12049\n",
      "Remaining non-contradicting unique images:  10338\n"
     ]
    }
   ],
   "source": [
    "x_train, y_train, x_test, y_test = mnist_digits()"
   ]
  },
  {
   "cell_type": "code",
   "execution_count": null,
   "metadata": {},
   "outputs": [],
   "source": [
    "neural_network = NeuralNetwork()\n",
    "neural_network.train(x_train, y_train)"
   ]
  },
  {
   "cell_type": "code",
   "execution_count": null,
   "metadata": {},
   "outputs": [],
   "source": [
    "neural_network.model.evaluate(x_train, y_train)"
   ]
  },
  {
   "cell_type": "code",
   "execution_count": 5,
   "metadata": {},
   "outputs": [
    {
     "name": "stdout",
     "output_type": "stream",
     "text": [
      "Epoch 1/20\n"
     ]
    },
    {
     "ename": "AssertionError",
     "evalue": "in user code:\n\n    File \"/Users/sebastianmolina/.pyenv/versions/quantum/lib/python3.10/site-packages/keras/src/engine/training.py\", line 1338, in train_function  *\n        return step_function(self, iterator)\n    File \"/Users/sebastianmolina/.pyenv/versions/quantum/lib/python3.10/site-packages/keras/src/engine/training.py\", line 1322, in step_function  **\n        outputs = model.distribute_strategy.run(run_step, args=(data,))\n    File \"/Users/sebastianmolina/.pyenv/versions/quantum/lib/python3.10/site-packages/keras/src/engine/training.py\", line 1303, in run_step  **\n        outputs = model.train_step(data)\n    File \"/Users/sebastianmolina/.pyenv/versions/quantum/lib/python3.10/site-packages/keras/src/engine/training.py\", line 1080, in train_step\n        y_pred = self(x, training=True)\n    File \"/Users/sebastianmolina/.pyenv/versions/quantum/lib/python3.10/site-packages/keras/src/utils/traceback_utils.py\", line 70, in error_handler\n        raise e.with_traceback(filtered_tb) from None\n    File \"/var/folders/k6/ksxs3d195hz3kzx55vfsndf40000gp/T/__autograph_generated_filesgbg8m9r.py\", line 42, in tf__call\n        ag__.if_stmt(ag__.ld(inputs) is None, if_body_1, else_body_1, get_state_1, set_state_1, ('result',), 1)\n    File \"/var/folders/k6/ksxs3d195hz3kzx55vfsndf40000gp/T/__autograph_generated_filesgbg8m9r.py\", line 40, in else_body_1\n        ag__.if_stmt(ag__.converted_call(ag__.ld(len), (ag__.converted_call(ag__.ld(backend).tree_map, (ag__.ld(backend).shape_tuple, ag__.converted_call(ag__.ld(backend).tree_flatten, (ag__.ld(inputs),), None, fscope)), None, fscope)[0][0],), None, fscope) == 1, if_body, else_body, get_state, set_state, ('result',), 1)\n    File \"/var/folders/k6/ksxs3d195hz3kzx55vfsndf40000gp/T/__autograph_generated_filesgbg8m9r.py\", line 38, in else_body\n        result = ag__.converted_call(ag__.ld(tf).vectorized_map, (ag__.autograph_artifact(lambda vec: ag__.converted_call(ag__.ld(self).f, (ag__.ld(vec),) + tuple(ag__.ld(self).pqc_weights), dict(**ag__.ld(kwargs)), fscope)), ag__.ld(inputs)), None, fscope)\n    File \"/var/folders/k6/ksxs3d195hz3kzx55vfsndf40000gp/T/__autograph_generated_filesgbg8m9r.py\", line 38, in <lambda>\n        result = ag__.converted_call(ag__.ld(tf).vectorized_map, (ag__.autograph_artifact(lambda vec: ag__.converted_call(ag__.ld(self).f, (ag__.ld(vec),) + tuple(ag__.ld(self).pqc_weights), dict(**ag__.ld(kwargs)), fscope)), ag__.ld(inputs)), None, fscope)\n    File \"/var/folders/k6/ksxs3d195hz3kzx55vfsndf40000gp/T/__autograph_generated_file46jl8v0e.py\", line 10, in tf__circuit\n        wires = ag__.converted_call(ag__.ld(tc).Circuit, (ag__.ld(self).num_qubits,), dict(inputs=ag__.ld(x)), fscope)\n    File \"/Users/sebastianmolina/.pyenv/versions/quantum/lib/python3.10/site-packages/tensorcircuit/circuit.py\", line 82, in __init__\n        assert n == nqubits or n == 2 * nqubits\n\n    AssertionError: Exception encountered when calling layer 'quantum_layer_2' (type QuantumLayer).\n    \n    in user code:\n    \n        File \"/Users/sebastianmolina/.pyenv/versions/quantum/lib/python3.10/site-packages/tensorcircuit/keras.py\", line 122, in call  *\n            result = tf.vectorized_map(\n        File \"/Users/sebastianmolina/Documents/QML/quantum_machine_learning/mnist/quantum_neural_network.py\", line 14, in circuit  *\n            wires = tc.Circuit(self.num_qubits, inputs=x)\n        File \"/Users/sebastianmolina/.pyenv/versions/quantum/lib/python3.10/site-packages/tensorcircuit/circuit.py\", line 82, in __init__  **\n            assert n == nqubits or n == 2 * nqubits\n    \n        AssertionError: \n    \n    \n    Call arguments received by layer 'quantum_layer_2' (type QuantumLayer):\n      • inputs=tf.Tensor(shape=(None, 4, 4, 1), dtype=float32)\n      • training=True\n      • mask=None\n      • kwargs=<class 'inspect._empty'>\n",
     "output_type": "error",
     "traceback": [
      "\u001b[0;31m---------------------------------------------------------------------------\u001b[0m",
      "\u001b[0;31mAssertionError\u001b[0m                            Traceback (most recent call last)",
      "\u001b[1;32m/Users/sebastianmolina/Documents/QML/quantum_machine_learning/mnist/mnist.ipynb Cell 6\u001b[0m line \u001b[0;36m2\n\u001b[1;32m      <a href='vscode-notebook-cell:/Users/sebastianmolina/Documents/QML/quantum_machine_learning/mnist/mnist.ipynb#W5sZmlsZQ%3D%3D?line=0'>1</a>\u001b[0m quantum_network \u001b[39m=\u001b[39m QuantumNeuralNetwork(num_qubits\u001b[39m=\u001b[39m\u001b[39m16\u001b[39m, num_blocks\u001b[39m=\u001b[39m\u001b[39m3\u001b[39m)\n\u001b[0;32m----> <a href='vscode-notebook-cell:/Users/sebastianmolina/Documents/QML/quantum_machine_learning/mnist/mnist.ipynb#W5sZmlsZQ%3D%3D?line=1'>2</a>\u001b[0m quantum_network\u001b[39m.\u001b[39;49mtrain(x_train, y_train)\n",
      "File \u001b[0;32m~/Documents/QML/quantum_machine_learning/mnist/quantum_neural_network.py:38\u001b[0m, in \u001b[0;36mQuantumNeuralNetwork.train\u001b[0;34m(self, x_train, y_train)\u001b[0m\n\u001b[1;32m     31\u001b[0m \u001b[39mdef\u001b[39;00m \u001b[39mtrain\u001b[39m(\u001b[39mself\u001b[39m, x_train, y_train):\n\u001b[1;32m     32\u001b[0m     \u001b[39mself\u001b[39m\u001b[39m.\u001b[39mmodel\u001b[39m.\u001b[39mcompile(\n\u001b[1;32m     33\u001b[0m         loss\u001b[39m=\u001b[39mtf\u001b[39m.\u001b[39mkeras\u001b[39m.\u001b[39mlosses\u001b[39m.\u001b[39mBinaryCrossentropy(),\n\u001b[1;32m     34\u001b[0m         optimizer\u001b[39m=\u001b[39mtf\u001b[39m.\u001b[39mkeras\u001b[39m.\u001b[39moptimizers\u001b[39m.\u001b[39mlegacy\u001b[39m.\u001b[39mAdam(\u001b[39m0.01\u001b[39m), \u001b[39m#Using legacy because running on macOS.\u001b[39;00m\n\u001b[1;32m     35\u001b[0m         metrics\u001b[39m=\u001b[39m[tf\u001b[39m.\u001b[39mkeras\u001b[39m.\u001b[39mmetrics\u001b[39m.\u001b[39mBinaryAccuracy()],\n\u001b[1;32m     36\u001b[0m     )\n\u001b[0;32m---> 38\u001b[0m     \u001b[39mself\u001b[39;49m\u001b[39m.\u001b[39;49mmodel\u001b[39m.\u001b[39;49mfit(\n\u001b[1;32m     39\u001b[0m         x_train, \n\u001b[1;32m     40\u001b[0m         y_train,\n\u001b[1;32m     41\u001b[0m         epochs\u001b[39m=\u001b[39;49m\u001b[39m20\u001b[39;49m,\n\u001b[1;32m     42\u001b[0m         )\n",
      "File \u001b[0;32m~/.pyenv/versions/quantum/lib/python3.10/site-packages/keras/src/utils/traceback_utils.py:70\u001b[0m, in \u001b[0;36mfilter_traceback.<locals>.error_handler\u001b[0;34m(*args, **kwargs)\u001b[0m\n\u001b[1;32m     67\u001b[0m     filtered_tb \u001b[39m=\u001b[39m _process_traceback_frames(e\u001b[39m.\u001b[39m__traceback__)\n\u001b[1;32m     68\u001b[0m     \u001b[39m# To get the full stack trace, call:\u001b[39;00m\n\u001b[1;32m     69\u001b[0m     \u001b[39m# `tf.debugging.disable_traceback_filtering()`\u001b[39;00m\n\u001b[0;32m---> 70\u001b[0m     \u001b[39mraise\u001b[39;00m e\u001b[39m.\u001b[39mwith_traceback(filtered_tb) \u001b[39mfrom\u001b[39;00m \u001b[39mNone\u001b[39;00m\n\u001b[1;32m     71\u001b[0m \u001b[39mfinally\u001b[39;00m:\n\u001b[1;32m     72\u001b[0m     \u001b[39mdel\u001b[39;00m filtered_tb\n",
      "File \u001b[0;32m/var/folders/k6/ksxs3d195hz3kzx55vfsndf40000gp/T/__autograph_generated_fileaxatvb5z.py:15\u001b[0m, in \u001b[0;36mouter_factory.<locals>.inner_factory.<locals>.tf__train_function\u001b[0;34m(iterator)\u001b[0m\n\u001b[1;32m     13\u001b[0m \u001b[39mtry\u001b[39;00m:\n\u001b[1;32m     14\u001b[0m     do_return \u001b[39m=\u001b[39m \u001b[39mTrue\u001b[39;00m\n\u001b[0;32m---> 15\u001b[0m     retval_ \u001b[39m=\u001b[39m ag__\u001b[39m.\u001b[39mconverted_call(ag__\u001b[39m.\u001b[39mld(step_function), (ag__\u001b[39m.\u001b[39mld(\u001b[39mself\u001b[39m), ag__\u001b[39m.\u001b[39mld(iterator)), \u001b[39mNone\u001b[39;00m, fscope)\n\u001b[1;32m     16\u001b[0m \u001b[39mexcept\u001b[39;00m:\n\u001b[1;32m     17\u001b[0m     do_return \u001b[39m=\u001b[39m \u001b[39mFalse\u001b[39;00m\n",
      "File \u001b[0;32m/var/folders/k6/ksxs3d195hz3kzx55vfsndf40000gp/T/__autograph_generated_filesgbg8m9r.py:42\u001b[0m, in \u001b[0;36mouter_factory.<locals>.inner_factory.<locals>.tf__call\u001b[0;34m(self, inputs, training, mask, **kwargs)\u001b[0m\n\u001b[1;32m     40\u001b[0m     ag__\u001b[39m.\u001b[39mif_stmt(ag__\u001b[39m.\u001b[39mconverted_call(ag__\u001b[39m.\u001b[39mld(\u001b[39mlen\u001b[39m), (ag__\u001b[39m.\u001b[39mconverted_call(ag__\u001b[39m.\u001b[39mld(backend)\u001b[39m.\u001b[39mtree_map, (ag__\u001b[39m.\u001b[39mld(backend)\u001b[39m.\u001b[39mshape_tuple, ag__\u001b[39m.\u001b[39mconverted_call(ag__\u001b[39m.\u001b[39mld(backend)\u001b[39m.\u001b[39mtree_flatten, (ag__\u001b[39m.\u001b[39mld(inputs),), \u001b[39mNone\u001b[39;00m, fscope)), \u001b[39mNone\u001b[39;00m, fscope)[\u001b[39m0\u001b[39m][\u001b[39m0\u001b[39m],), \u001b[39mNone\u001b[39;00m, fscope) \u001b[39m==\u001b[39m \u001b[39m1\u001b[39m, if_body, else_body, get_state, set_state, (\u001b[39m'\u001b[39m\u001b[39mresult\u001b[39m\u001b[39m'\u001b[39m,), \u001b[39m1\u001b[39m)\n\u001b[1;32m     41\u001b[0m result \u001b[39m=\u001b[39m ag__\u001b[39m.\u001b[39mUndefined(\u001b[39m'\u001b[39m\u001b[39mresult\u001b[39m\u001b[39m'\u001b[39m)\n\u001b[0;32m---> 42\u001b[0m ag__\u001b[39m.\u001b[39;49mif_stmt(ag__\u001b[39m.\u001b[39;49mld(inputs) \u001b[39mis\u001b[39;49;00m \u001b[39mNone\u001b[39;49;00m, if_body_1, else_body_1, get_state_1, set_state_1, (\u001b[39m'\u001b[39;49m\u001b[39mresult\u001b[39;49m\u001b[39m'\u001b[39;49m,), \u001b[39m1\u001b[39;49m)\n\u001b[1;32m     43\u001b[0m \u001b[39mtry\u001b[39;00m:\n\u001b[1;32m     44\u001b[0m     do_return \u001b[39m=\u001b[39m \u001b[39mTrue\u001b[39;00m\n",
      "File \u001b[0;32m/var/folders/k6/ksxs3d195hz3kzx55vfsndf40000gp/T/__autograph_generated_filesgbg8m9r.py:40\u001b[0m, in \u001b[0;36mouter_factory.<locals>.inner_factory.<locals>.tf__call.<locals>.else_body_1\u001b[0;34m()\u001b[0m\n\u001b[1;32m     38\u001b[0m     result \u001b[39m=\u001b[39m ag__\u001b[39m.\u001b[39mconverted_call(ag__\u001b[39m.\u001b[39mld(tf)\u001b[39m.\u001b[39mvectorized_map, (ag__\u001b[39m.\u001b[39mautograph_artifact(\u001b[39mlambda\u001b[39;00m vec: ag__\u001b[39m.\u001b[39mconverted_call(ag__\u001b[39m.\u001b[39mld(\u001b[39mself\u001b[39m)\u001b[39m.\u001b[39mf, (ag__\u001b[39m.\u001b[39mld(vec),) \u001b[39m+\u001b[39m \u001b[39mtuple\u001b[39m(ag__\u001b[39m.\u001b[39mld(\u001b[39mself\u001b[39m)\u001b[39m.\u001b[39mpqc_weights), \u001b[39mdict\u001b[39m(\u001b[39m*\u001b[39m\u001b[39m*\u001b[39mag__\u001b[39m.\u001b[39mld(kwargs)), fscope)), ag__\u001b[39m.\u001b[39mld(inputs)), \u001b[39mNone\u001b[39;00m, fscope)\n\u001b[1;32m     39\u001b[0m result \u001b[39m=\u001b[39m ag__\u001b[39m.\u001b[39mUndefined(\u001b[39m'\u001b[39m\u001b[39mresult\u001b[39m\u001b[39m'\u001b[39m)\n\u001b[0;32m---> 40\u001b[0m ag__\u001b[39m.\u001b[39;49mif_stmt(ag__\u001b[39m.\u001b[39;49mconverted_call(ag__\u001b[39m.\u001b[39;49mld(\u001b[39mlen\u001b[39;49m), (ag__\u001b[39m.\u001b[39;49mconverted_call(ag__\u001b[39m.\u001b[39;49mld(backend)\u001b[39m.\u001b[39;49mtree_map, (ag__\u001b[39m.\u001b[39;49mld(backend)\u001b[39m.\u001b[39;49mshape_tuple, ag__\u001b[39m.\u001b[39;49mconverted_call(ag__\u001b[39m.\u001b[39;49mld(backend)\u001b[39m.\u001b[39;49mtree_flatten, (ag__\u001b[39m.\u001b[39;49mld(inputs),), \u001b[39mNone\u001b[39;49;00m, fscope)), \u001b[39mNone\u001b[39;49;00m, fscope)[\u001b[39m0\u001b[39;49m][\u001b[39m0\u001b[39;49m],), \u001b[39mNone\u001b[39;49;00m, fscope) \u001b[39m==\u001b[39;49m \u001b[39m1\u001b[39;49m, if_body, else_body, get_state, set_state, (\u001b[39m'\u001b[39;49m\u001b[39mresult\u001b[39;49m\u001b[39m'\u001b[39;49m,), \u001b[39m1\u001b[39;49m)\n",
      "File \u001b[0;32m/var/folders/k6/ksxs3d195hz3kzx55vfsndf40000gp/T/__autograph_generated_filesgbg8m9r.py:38\u001b[0m, in \u001b[0;36mouter_factory.<locals>.inner_factory.<locals>.tf__call.<locals>.else_body_1.<locals>.else_body\u001b[0;34m()\u001b[0m\n\u001b[1;32m     36\u001b[0m \u001b[39mdef\u001b[39;00m \u001b[39melse_body\u001b[39m():\n\u001b[1;32m     37\u001b[0m     \u001b[39mnonlocal\u001b[39;00m result\n\u001b[0;32m---> 38\u001b[0m     result \u001b[39m=\u001b[39m ag__\u001b[39m.\u001b[39;49mconverted_call(ag__\u001b[39m.\u001b[39;49mld(tf)\u001b[39m.\u001b[39;49mvectorized_map, (ag__\u001b[39m.\u001b[39;49mautograph_artifact(\u001b[39mlambda\u001b[39;49;00m vec: ag__\u001b[39m.\u001b[39;49mconverted_call(ag__\u001b[39m.\u001b[39;49mld(\u001b[39mself\u001b[39;49m)\u001b[39m.\u001b[39;49mf, (ag__\u001b[39m.\u001b[39;49mld(vec),) \u001b[39m+\u001b[39;49m \u001b[39mtuple\u001b[39;49m(ag__\u001b[39m.\u001b[39;49mld(\u001b[39mself\u001b[39;49m)\u001b[39m.\u001b[39;49mpqc_weights), \u001b[39mdict\u001b[39;49m(\u001b[39m*\u001b[39;49m\u001b[39m*\u001b[39;49mag__\u001b[39m.\u001b[39;49mld(kwargs)), fscope)), ag__\u001b[39m.\u001b[39;49mld(inputs)), \u001b[39mNone\u001b[39;49;00m, fscope)\n",
      "File \u001b[0;32m/var/folders/k6/ksxs3d195hz3kzx55vfsndf40000gp/T/__autograph_generated_filesgbg8m9r.py:38\u001b[0m, in \u001b[0;36mouter_factory.<locals>.inner_factory.<locals>.tf__call.<locals>.else_body_1.<locals>.else_body.<locals>.<lambda>\u001b[0;34m(vec)\u001b[0m\n\u001b[1;32m     36\u001b[0m \u001b[39mdef\u001b[39;00m \u001b[39melse_body\u001b[39m():\n\u001b[1;32m     37\u001b[0m     \u001b[39mnonlocal\u001b[39;00m result\n\u001b[0;32m---> 38\u001b[0m     result \u001b[39m=\u001b[39m ag__\u001b[39m.\u001b[39mconverted_call(ag__\u001b[39m.\u001b[39mld(tf)\u001b[39m.\u001b[39mvectorized_map, (ag__\u001b[39m.\u001b[39mautograph_artifact(\u001b[39mlambda\u001b[39;00m vec: ag__\u001b[39m.\u001b[39;49mconverted_call(ag__\u001b[39m.\u001b[39;49mld(\u001b[39mself\u001b[39;49m)\u001b[39m.\u001b[39;49mf, (ag__\u001b[39m.\u001b[39;49mld(vec),) \u001b[39m+\u001b[39;49m \u001b[39mtuple\u001b[39;49m(ag__\u001b[39m.\u001b[39;49mld(\u001b[39mself\u001b[39;49m)\u001b[39m.\u001b[39;49mpqc_weights), \u001b[39mdict\u001b[39;49m(\u001b[39m*\u001b[39;49m\u001b[39m*\u001b[39;49mag__\u001b[39m.\u001b[39;49mld(kwargs)), fscope)), ag__\u001b[39m.\u001b[39mld(inputs)), \u001b[39mNone\u001b[39;00m, fscope)\n",
      "File \u001b[0;32m/var/folders/k6/ksxs3d195hz3kzx55vfsndf40000gp/T/__autograph_generated_file46jl8v0e.py:10\u001b[0m, in \u001b[0;36mouter_factory.<locals>.inner_factory.<locals>.tf__circuit\u001b[0;34m(self, x, weights)\u001b[0m\n\u001b[1;32m      8\u001b[0m do_return \u001b[39m=\u001b[39m \u001b[39mFalse\u001b[39;00m\n\u001b[1;32m      9\u001b[0m retval_ \u001b[39m=\u001b[39m ag__\u001b[39m.\u001b[39mUndefinedReturnValue()\n\u001b[0;32m---> 10\u001b[0m wires \u001b[39m=\u001b[39m ag__\u001b[39m.\u001b[39;49mconverted_call(ag__\u001b[39m.\u001b[39;49mld(tc)\u001b[39m.\u001b[39;49mCircuit, (ag__\u001b[39m.\u001b[39;49mld(\u001b[39mself\u001b[39;49m)\u001b[39m.\u001b[39;49mnum_qubits,), \u001b[39mdict\u001b[39;49m(inputs\u001b[39m=\u001b[39;49mag__\u001b[39m.\u001b[39;49mld(x)), fscope)\n\u001b[1;32m     12\u001b[0m \u001b[39mdef\u001b[39;00m \u001b[39mget_state_2\u001b[39m():\n\u001b[1;32m     13\u001b[0m     \u001b[39mreturn\u001b[39;00m ()\n",
      "File \u001b[0;32m~/.pyenv/versions/quantum/lib/python3.10/site-packages/tensorcircuit/circuit.py:82\u001b[0m, in \u001b[0;36mCircuit.__init__\u001b[0;34m(self, nqubits, inputs, mps_inputs, split)\u001b[0m\n\u001b[1;32m     80\u001b[0m N \u001b[39m=\u001b[39m inputs\u001b[39m.\u001b[39mshape[\u001b[39m0\u001b[39m]\n\u001b[1;32m     81\u001b[0m n \u001b[39m=\u001b[39m \u001b[39mint\u001b[39m(np\u001b[39m.\u001b[39mlog(N) \u001b[39m/\u001b[39m np\u001b[39m.\u001b[39mlog(\u001b[39m2\u001b[39m))\n\u001b[0;32m---> 82\u001b[0m \u001b[39massert\u001b[39;00m n \u001b[39m==\u001b[39m nqubits \u001b[39mor\u001b[39;00m n \u001b[39m==\u001b[39m \u001b[39m2\u001b[39m \u001b[39m*\u001b[39m nqubits\n\u001b[1;32m     83\u001b[0m inputs \u001b[39m=\u001b[39m backend\u001b[39m.\u001b[39mreshape(inputs, [\u001b[39m2\u001b[39m \u001b[39mfor\u001b[39;00m _ \u001b[39min\u001b[39;00m \u001b[39mrange\u001b[39m(n)])\n\u001b[1;32m     84\u001b[0m inputs \u001b[39m=\u001b[39m Gate(inputs)\n",
      "\u001b[0;31mAssertionError\u001b[0m: in user code:\n\n    File \"/Users/sebastianmolina/.pyenv/versions/quantum/lib/python3.10/site-packages/keras/src/engine/training.py\", line 1338, in train_function  *\n        return step_function(self, iterator)\n    File \"/Users/sebastianmolina/.pyenv/versions/quantum/lib/python3.10/site-packages/keras/src/engine/training.py\", line 1322, in step_function  **\n        outputs = model.distribute_strategy.run(run_step, args=(data,))\n    File \"/Users/sebastianmolina/.pyenv/versions/quantum/lib/python3.10/site-packages/keras/src/engine/training.py\", line 1303, in run_step  **\n        outputs = model.train_step(data)\n    File \"/Users/sebastianmolina/.pyenv/versions/quantum/lib/python3.10/site-packages/keras/src/engine/training.py\", line 1080, in train_step\n        y_pred = self(x, training=True)\n    File \"/Users/sebastianmolina/.pyenv/versions/quantum/lib/python3.10/site-packages/keras/src/utils/traceback_utils.py\", line 70, in error_handler\n        raise e.with_traceback(filtered_tb) from None\n    File \"/var/folders/k6/ksxs3d195hz3kzx55vfsndf40000gp/T/__autograph_generated_filesgbg8m9r.py\", line 42, in tf__call\n        ag__.if_stmt(ag__.ld(inputs) is None, if_body_1, else_body_1, get_state_1, set_state_1, ('result',), 1)\n    File \"/var/folders/k6/ksxs3d195hz3kzx55vfsndf40000gp/T/__autograph_generated_filesgbg8m9r.py\", line 40, in else_body_1\n        ag__.if_stmt(ag__.converted_call(ag__.ld(len), (ag__.converted_call(ag__.ld(backend).tree_map, (ag__.ld(backend).shape_tuple, ag__.converted_call(ag__.ld(backend).tree_flatten, (ag__.ld(inputs),), None, fscope)), None, fscope)[0][0],), None, fscope) == 1, if_body, else_body, get_state, set_state, ('result',), 1)\n    File \"/var/folders/k6/ksxs3d195hz3kzx55vfsndf40000gp/T/__autograph_generated_filesgbg8m9r.py\", line 38, in else_body\n        result = ag__.converted_call(ag__.ld(tf).vectorized_map, (ag__.autograph_artifact(lambda vec: ag__.converted_call(ag__.ld(self).f, (ag__.ld(vec),) + tuple(ag__.ld(self).pqc_weights), dict(**ag__.ld(kwargs)), fscope)), ag__.ld(inputs)), None, fscope)\n    File \"/var/folders/k6/ksxs3d195hz3kzx55vfsndf40000gp/T/__autograph_generated_filesgbg8m9r.py\", line 38, in <lambda>\n        result = ag__.converted_call(ag__.ld(tf).vectorized_map, (ag__.autograph_artifact(lambda vec: ag__.converted_call(ag__.ld(self).f, (ag__.ld(vec),) + tuple(ag__.ld(self).pqc_weights), dict(**ag__.ld(kwargs)), fscope)), ag__.ld(inputs)), None, fscope)\n    File \"/var/folders/k6/ksxs3d195hz3kzx55vfsndf40000gp/T/__autograph_generated_file46jl8v0e.py\", line 10, in tf__circuit\n        wires = ag__.converted_call(ag__.ld(tc).Circuit, (ag__.ld(self).num_qubits,), dict(inputs=ag__.ld(x)), fscope)\n    File \"/Users/sebastianmolina/.pyenv/versions/quantum/lib/python3.10/site-packages/tensorcircuit/circuit.py\", line 82, in __init__\n        assert n == nqubits or n == 2 * nqubits\n\n    AssertionError: Exception encountered when calling layer 'quantum_layer_2' (type QuantumLayer).\n    \n    in user code:\n    \n        File \"/Users/sebastianmolina/.pyenv/versions/quantum/lib/python3.10/site-packages/tensorcircuit/keras.py\", line 122, in call  *\n            result = tf.vectorized_map(\n        File \"/Users/sebastianmolina/Documents/QML/quantum_machine_learning/mnist/quantum_neural_network.py\", line 14, in circuit  *\n            wires = tc.Circuit(self.num_qubits, inputs=x)\n        File \"/Users/sebastianmolina/.pyenv/versions/quantum/lib/python3.10/site-packages/tensorcircuit/circuit.py\", line 82, in __init__  **\n            assert n == nqubits or n == 2 * nqubits\n    \n        AssertionError: \n    \n    \n    Call arguments received by layer 'quantum_layer_2' (type QuantumLayer):\n      • inputs=tf.Tensor(shape=(None, 4, 4, 1), dtype=float32)\n      • training=True\n      • mask=None\n      • kwargs=<class 'inspect._empty'>\n"
     ]
    }
   ],
   "source": [
    "quantum_network = QuantumNeuralNetwork(num_qubits=16, num_blocks=2)\n",
    "quantum_network.train(x_train, y_train)"
   ]
  },
  {
   "cell_type": "code",
   "execution_count": null,
   "metadata": {},
   "outputs": [],
   "source": []
  }
 ],
 "metadata": {
  "kernelspec": {
   "display_name": "quantum",
   "language": "python",
   "name": "python3"
  },
  "language_info": {
   "codemirror_mode": {
    "name": "ipython",
    "version": 3
   },
   "file_extension": ".py",
   "mimetype": "text/x-python",
   "name": "python",
   "nbconvert_exporter": "python",
   "pygments_lexer": "ipython3",
   "version": "3.10.11"
  },
  "orig_nbformat": 4
 },
 "nbformat": 4,
 "nbformat_minor": 2
}
