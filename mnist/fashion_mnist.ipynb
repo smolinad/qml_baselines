{
 "cells": [
  {
   "cell_type": "code",
   "execution_count": 1,
   "metadata": {},
   "outputs": [],
   "source": [
    "from matplotlib import pyplot as plt\n",
    "import tensorflow as tf\n",
    "import tensorcircuit as tc\n",
    "\n",
    "K = tc.set_backend(\"tensorflow\")"
   ]
  },
  {
   "cell_type": "code",
   "execution_count": 2,
   "metadata": {},
   "outputs": [],
   "source": [
    "(x_train, y_train), (x_test, y_test) = tc.templates.dataset.mnist_pair_data(\n",
    "    0, 1, loader=tf.keras.datasets.fashion_mnist\n",
    ")"
   ]
  },
  {
   "cell_type": "code",
   "execution_count": 3,
   "metadata": {},
   "outputs": [
    {
     "data": {
      "text/plain": [
       "<matplotlib.image.AxesImage at 0x2959376d0>"
      ]
     },
     "execution_count": 3,
     "metadata": {},
     "output_type": "execute_result"
    },
    {
     "data": {
      "image/png": "[encoded data removed]",
      "text/plain": [
       "<Figure size 640x480 with 1 Axes>"
      ]
     },
     "metadata": {},
     "output_type": "display_data"
    }
   ],
   "source": [
    "plt.imshow(x_train[0])"
   ]
  },
  {
   "cell_type": "code",
   "execution_count": 4,
   "metadata": {},
   "outputs": [],
   "source": [
    "x_train = tf.image.pad_to_bounding_box(x_train, 2, 2, 32, 32)\n",
    "x_test = tf.image.pad_to_bounding_box(x_test, 2, 2, 32, 32)"
   ]
  },
  {
   "cell_type": "code",
   "execution_count": 5,
   "metadata": {},
   "outputs": [
    {
     "data": {
      "text/plain": [
       "<matplotlib.image.AxesImage at 0x295a61780>"
      ]
     },
     "execution_count": 5,
     "metadata": {},
     "output_type": "execute_result"
    },
    {
     "data": {
      "image/png": "[encoded data removed]",
      "text/plain": [
       "<Figure size 640x480 with 1 Axes>"
      ]
     },
     "metadata": {},
     "output_type": "display_data"
    }
   ],
   "source": [
    "plt.imshow(x_train[0])"
   ]
  },
  {
   "cell_type": "code",
   "execution_count": 6,
   "metadata": {},
   "outputs": [],
   "source": [
    "batched_ae = K.vmap(tc.templates.dataset.amplitude_encoding, vectorized_argnums=0)"
   ]
  },
  {
   "cell_type": "code",
   "execution_count": 7,
   "metadata": {},
   "outputs": [],
   "source": [
    "x_train_q = batched_ae(x_train, 10)\n",
    "x_test_q = batched_ae(x_test, 10)"
   ]
  },
  {
   "cell_type": "code",
   "execution_count": 9,
   "metadata": {},
   "outputs": [
    {
     "data": {
      "text/plain": [
       "<tf.Tensor: shape=(1024,), dtype=complex64, numpy=\n",
       "array([0.+0.j, 0.+0.j, 0.+0.j, ..., 0.+0.j, 0.+0.j, 0.+0.j],\n",
       "      dtype=complex64)>"
      ]
     },
     "execution_count": 9,
     "metadata": {},
     "output_type": "execute_result"
    }
   ],
   "source": [
    "x_train_q[0]"
   ]
  },
  {
   "cell_type": "code",
   "execution_count": 23,
   "metadata": {},
   "outputs": [],
   "source": [
    "n = 10\n",
    "blocks = 3\n",
    "\n",
    "\n",
    "def qml(x, weights):\n",
    "    c = tc.Circuit(n, inputs=x)\n",
    "    for j in range(blocks):\n",
    "        for i in range(n):\n",
    "            c.rx(i, theta=weights[j, i, 0])\n",
    "            c.rz(i, theta=weights[j, i, 1])\n",
    "        for i in range(n - 1):\n",
    "            c.exp1(i, i + 1, theta=weights[j, i, 2], unitary=tc.gates._zz_matrix)\n",
    "    outputs = K.stack(\n",
    "        [K.real(c.expectation([tc.gates.z(), [i]])) for i in range(n)]\n",
    "        + [K.real(c.expectation([tc.gates.x(), [i]])) for i in range(n)]\n",
    "    )\n",
    "    outputs = K.reshape(outputs, [-1])\n",
    "    return K.sigmoid(K.sum(outputs))\n",
    "\n",
    "\n",
    "qml_layer = tc.keras.QuantumLayer(qml, weights_shape=[blocks, n, 3])"
   ]
  },
  {
   "cell_type": "code",
   "execution_count": 24,
   "metadata": {},
   "outputs": [
    {
     "name": "stdout",
     "output_type": "stream",
     "text": [
      "Epoch 1/3\n",
      "75/75 [==============================] - 50s 320ms/step - loss: 0.5897 - binary_accuracy: 0.8278 - val_loss: 0.3797 - val_binary_accuracy: 0.9661\n",
      "Epoch 2/3\n",
      "75/75 [==============================] - 9s 120ms/step - loss: 0.3469 - binary_accuracy: 0.9575 - val_loss: 0.3086 - val_binary_accuracy: 0.9659\n",
      "Epoch 3/3\n",
      "75/75 [==============================] - 9s 124ms/step - loss: 0.2949 - binary_accuracy: 0.9596 - val_loss: 0.2685 - val_binary_accuracy: 0.9644\n"
     ]
    },
    {
     "data": {
      "text/plain": [
       "<keras.src.callbacks.History at 0x2941d2b30>"
      ]
     },
     "execution_count": 24,
     "metadata": {},
     "output_type": "execute_result"
    }
   ],
   "source": [
    "model = tf.keras.Sequential([qml_layer])\n",
    "model.compile(\n",
    "    loss=tf.keras.losses.BinaryCrossentropy(),\n",
    "    optimizer=tf.keras.optimizers.legacy.Adam(0.01),\n",
    "    metrics=[tf.keras.metrics.BinaryAccuracy()],\n",
    ")\n",
    "\n",
    "model.fit(x_train_q, y_train, batch_size=32, epochs=3, validation_split=0.8)"
   ]
  }
 ],
 "metadata": {
  "kernelspec": {
   "display_name": "quantum",
   "language": "python",
   "name": "python3"
  },
  "language_info": {
   "codemirror_mode": {
    "name": "ipython",
    "version": 3
   },
   "file_extension": ".py",
   "mimetype": "text/x-python",
   "name": "python",
   "nbconvert_exporter": "python",
   "pygments_lexer": "ipython3",
   "version": "3.10.11"
  }
 },
 "nbformat": 4,
 "nbformat_minor": 2
}
