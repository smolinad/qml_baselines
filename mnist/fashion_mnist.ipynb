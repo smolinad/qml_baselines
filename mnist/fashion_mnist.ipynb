{
 "cells": [
  {
   "cell_type": "code",
   "execution_count": 7,
   "metadata": {},
   "outputs": [],
   "source": [
    "from matplotlib import pyplot as plt\n",
    "import tensorflow as tf\n",
    "import tensorcircuit as tc\n",
    "\n",
    "K = tc.set_backend(\"tensorflow\")"
   ]
  },
  {
   "cell_type": "code",
   "execution_count": 8,
   "metadata": {},
   "outputs": [],
   "source": [
    "(x_train, y_train), (x_test, y_test) = tc.templates.dataset.mnist_pair_data(\n",
    "    0, 1, loader=tf.keras.datasets.fashion_mnist\n",
    ")"
   ]
  },
  {
   "cell_type": "code",
   "execution_count": 10,
   "metadata": {},
   "outputs": [],
   "source": [
    "x_train = tf.image.pad_to_bounding_box(x_train, 2, 2, 32, 32)\n",
    "x_test = tf.image.pad_to_bounding_box(x_test, 2, 2, 32, 32)"
   ]
  },
  {
   "cell_type": "code",
   "execution_count": 14,
   "metadata": {},
   "outputs": [
    {
     "data": {
      "text/plain": [
       "TensorShape([2000, 32, 32, 1])"
      ]
     },
     "execution_count": 14,
     "metadata": {},
     "output_type": "execute_result"
    }
   ],
   "source": [
    "x_test.shape"
   ]
  },
  {
   "cell_type": "code",
   "execution_count": 22,
   "metadata": {},
   "outputs": [],
   "source": [
    "batched_ae = K.vmap(tc.templates.dataset.amplitude_encoding, vectorized_argnums=0)"
   ]
  },
  {
   "cell_type": "code",
   "execution_count": 23,
   "metadata": {},
   "outputs": [],
   "source": [
    "x_train_q = batched_ae(x_train, 10)\n",
    "x_test_q = batched_ae(x_test, 10)"
   ]
  },
  {
   "cell_type": "code",
   "execution_count": 10,
   "metadata": {},
   "outputs": [],
   "source": [
    "n = 10\n",
    "blocks = 3\n",
    "\n",
    "\n",
    "def qml(x, weights):\n",
    "    c = tc.Circuit(n, inputs=x)\n",
    "    for j in range(blocks):\n",
    "        for i in range(n):\n",
    "            c.rx(i, theta=weights[j, i, 0])\n",
    "            c.rz(i, theta=weights[j, i, 1])\n",
    "        for i in range(n - 1):\n",
    "            c.exp1(i, i + 1, theta=weights[j, i, 2], unitary=tc.gates._zz_matrix)\n",
    "    outputs = K.stack(\n",
    "        [K.real(c.expectation([tc.gates.z(), [i]])) for i in range(n)]\n",
    "        + [K.real(c.expectation([tc.gates.x(), [i]])) for i in range(n)]\n",
    "    )\n",
    "    outputs = K.reshape(outputs, [-1])\n",
    "    return K.sigmoid(K.sum(outputs))\n",
    "\n",
    "\n",
    "qml_layer = tc.keras.QuantumLayer(qml, weights_shape=[blocks, n, 3])"
   ]
  },
  {
   "cell_type": "code",
   "execution_count": 12,
   "metadata": {},
   "outputs": [
    {
     "name": "stdout",
     "output_type": "stream",
     "text": [
      "Epoch 1/3\n",
      "75/75 [==============================] - 27s 318ms/step - loss: 0.5613 - binary_accuracy: 0.8003 - val_loss: 0.4014 - val_binary_accuracy: 0.9362\n",
      "Epoch 2/3\n",
      "75/75 [==============================] - 11s 150ms/step - loss: 0.3597 - binary_accuracy: 0.9312 - val_loss: 0.3093 - val_binary_accuracy: 0.9381\n",
      "Epoch 3/3\n",
      "75/75 [==============================] - 11s 144ms/step - loss: 0.2878 - binary_accuracy: 0.9337 - val_loss: 0.2576 - val_binary_accuracy: 0.9385\n"
     ]
    },
    {
     "data": {
      "text/plain": [
       "<keras.src.callbacks.History at 0x2f06f5d50>"
      ]
     },
     "execution_count": 12,
     "metadata": {},
     "output_type": "execute_result"
    }
   ],
   "source": [
    "model = tf.keras.Sequential([qml_layer])\n",
    "model.compile(\n",
    "    loss=tf.keras.losses.BinaryCrossentropy(),\n",
    "    optimizer=tf.keras.optimizers.legacy.Adam(0.01),\n",
    "    metrics=[tf.keras.metrics.BinaryAccuracy()],\n",
    ")\n",
    "\n",
    "model.fit(x_train_q, y_train, batch_size=32, epochs=3, validation_split=0.8)"
   ]
  }
 ],
 "metadata": {
  "kernelspec": {
   "display_name": "quantum",
   "language": "python",
   "name": "python3"
  },
  "language_info": {
   "codemirror_mode": {
    "name": "ipython",
    "version": 3
   },
   "file_extension": ".py",
   "mimetype": "text/x-python",
   "name": "python",
   "nbconvert_exporter": "python",
   "pygments_lexer": "ipython3",
   "version": "3.10.11"
  }
 },
 "nbformat": 4,
 "nbformat_minor": 2
}
