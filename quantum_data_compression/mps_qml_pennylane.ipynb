{
  "cells": [
    {
      "cell_type": "markdown",
      "metadata": {
        "id": "3klb0ol7Vt4j"
      },
      "source": [
        "# Implementation of the paper: MNIST with MPS quantum network\n",
        "\n",
        "Dilip et al. Data compression for quantum machine learning\n",
        "\n",
        "\n",
        "https://arxiv.org/abs/2204.11170\n",
        "\n",
        "\n"
      ]
    },
    {
      "cell_type": "markdown",
      "metadata": {
        "id": "FrAbmHBdYTbI"
      },
      "source": [
        "## Libraries"
      ]
    },
    {
      "cell_type": "code",
      "execution_count": null,
      "metadata": {
        "id": "CwGFdAgZnzQR"
      },
      "outputs": [],
      "source": [
        "from sklearn.datasets import make_moons\n",
        "import tensorflow as tf\n",
        "from sklearn.preprocessing import MinMaxScaler\n",
        "from sklearn.model_selection import train_test_split\n",
        "from sklearn.metrics import accuracy_score\n",
        "import tensorflow as tf\n",
        "from tensorflow.keras.models import Sequential"
      ]
    },
    {
      "cell_type": "code",
      "execution_count": null,
      "metadata": {
        "colab": {
          "base_uri": "https://localhost:8080/"
        },
        "id": "sCkbWetPXn6-",
        "outputId": "19f6f6db-c93d-43c4-a7b7-0e2fd99dddd6"
      },
      "outputs": [
        {
          "output_type": "stream",
          "name": "stdout",
          "text": [
            "Collecting pennylane\n",
            "  Downloading PennyLane-0.32.0-py3-none-any.whl (1.5 MB)\n",
            "\u001b[2K     \u001b[90m━━━━━━━━━━━━━━━━━━━━━━━━━━━━━━━━━━━━━━━━\u001b[0m \u001b[32m1.5/1.5 MB\u001b[0m \u001b[31m7.6 MB/s\u001b[0m eta \u001b[36m0:00:00\u001b[0m\n",
            "\u001b[?25hRequirement already satisfied: numpy<1.24 in /usr/local/lib/python3.10/dist-packages (from pennylane) (1.23.5)\n",
            "Requirement already satisfied: scipy in /usr/local/lib/python3.10/dist-packages (from pennylane) (1.11.2)\n",
            "Requirement already satisfied: networkx in /usr/local/lib/python3.10/dist-packages (from pennylane) (3.1)\n",
            "Collecting rustworkx (from pennylane)\n",
            "  Downloading rustworkx-0.13.1-cp310-cp310-manylinux_2_17_x86_64.manylinux2014_x86_64.whl (2.0 MB)\n",
            "\u001b[2K     \u001b[90m━━━━━━━━━━━━━━━━━━━━━━━━━━━━━━━━━━━━━━━━\u001b[0m \u001b[32m2.0/2.0 MB\u001b[0m \u001b[31m18.7 MB/s\u001b[0m eta \u001b[36m0:00:00\u001b[0m\n",
            "\u001b[?25hCollecting autograd<=1.5 (from pennylane)\n",
            "  Downloading autograd-1.5-py3-none-any.whl (48 kB)\n",
            "\u001b[2K     \u001b[90m━━━━━━━━━━━━━━━━━━━━━━━━━━━━━━━━━━━━━━━━\u001b[0m \u001b[32m48.9/48.9 kB\u001b[0m \u001b[31m5.3 MB/s\u001b[0m eta \u001b[36m0:00:00\u001b[0m\n",
            "\u001b[?25hRequirement already satisfied: toml in /usr/local/lib/python3.10/dist-packages (from pennylane) (0.10.2)\n",
            "Requirement already satisfied: appdirs in /usr/local/lib/python3.10/dist-packages (from pennylane) (1.4.4)\n",
            "Collecting semantic-version>=2.7 (from pennylane)\n",
            "  Downloading semantic_version-2.10.0-py2.py3-none-any.whl (15 kB)\n",
            "Collecting autoray>=0.3.1 (from pennylane)\n",
            "  Downloading autoray-0.6.6-py3-none-any.whl (54 kB)\n",
            "\u001b[2K     \u001b[90m━━━━━━━━━━━━━━━━━━━━━━━━━━━━━━━━━━━━━━━━\u001b[0m \u001b[32m54.7/54.7 kB\u001b[0m \u001b[31m6.6 MB/s\u001b[0m eta \u001b[36m0:00:00\u001b[0m\n",
            "\u001b[?25hRequirement already satisfied: cachetools in /usr/local/lib/python3.10/dist-packages (from pennylane) (5.3.1)\n",
            "Collecting pennylane-lightning>=0.32 (from pennylane)\n",
            "  Downloading PennyLane_Lightning-0.32.0-cp310-cp310-manylinux_2_17_x86_64.manylinux2014_x86_64.whl (13.6 MB)\n",
            "\u001b[2K     \u001b[90m━━━━━━━━━━━━━━━━━━━━━━━━━━━━━━━━━━━━━━━━\u001b[0m \u001b[32m13.6/13.6 MB\u001b[0m \u001b[31m40.4 MB/s\u001b[0m eta \u001b[36m0:00:00\u001b[0m\n",
            "\u001b[?25hRequirement already satisfied: requests in /usr/local/lib/python3.10/dist-packages (from pennylane) (2.31.0)\n",
            "Requirement already satisfied: typing-extensions in /usr/local/lib/python3.10/dist-packages (from pennylane) (4.5.0)\n",
            "Requirement already satisfied: future>=0.15.2 in /usr/local/lib/python3.10/dist-packages (from autograd<=1.5->pennylane) (0.18.3)\n",
            "Requirement already satisfied: charset-normalizer<4,>=2 in /usr/local/lib/python3.10/dist-packages (from requests->pennylane) (3.2.0)\n",
            "Requirement already satisfied: idna<4,>=2.5 in /usr/local/lib/python3.10/dist-packages (from requests->pennylane) (3.4)\n",
            "Requirement already satisfied: urllib3<3,>=1.21.1 in /usr/local/lib/python3.10/dist-packages (from requests->pennylane) (2.0.4)\n",
            "Requirement already satisfied: certifi>=2017.4.17 in /usr/local/lib/python3.10/dist-packages (from requests->pennylane) (2023.7.22)\n",
            "Installing collected packages: semantic-version, rustworkx, autoray, autograd, pennylane-lightning, pennylane\n",
            "  Attempting uninstall: autograd\n",
            "    Found existing installation: autograd 1.6.2\n",
            "    Uninstalling autograd-1.6.2:\n",
            "      Successfully uninstalled autograd-1.6.2\n",
            "Successfully installed autograd-1.5 autoray-0.6.6 pennylane-0.32.0 pennylane-lightning-0.32.0 rustworkx-0.13.1 semantic-version-2.10.0\n"
          ]
        }
      ],
      "source": [
        "!pip install pennylane"
      ]
    },
    {
      "cell_type": "code",
      "execution_count": null,
      "metadata": {
        "id": "DWBL78XFYR_9"
      },
      "outputs": [],
      "source": [
        "import pennylane as qml\n",
        "from pennylane import numpy as np\n",
        "import matplotlib.pyplot as plt\n",
        "from pennylane.optimize import NesterovMomentumOptimizer\n",
        "from scipy.stats import norm\n",
        "from time import time"
      ]
    },
    {
      "cell_type": "code",
      "execution_count": null,
      "metadata": {
        "id": "BtGpw1nZiM2H"
      },
      "outputs": [],
      "source": [
        "import numpy as onp"
      ]
    },
    {
      "cell_type": "markdown",
      "metadata": {
        "id": "tRr34MdyWRpa"
      },
      "source": [
        "## Bin MNIST Data Set"
      ]
    },
    {
      "cell_type": "code",
      "execution_count": null,
      "metadata": {
        "colab": {
          "base_uri": "https://localhost:8080/"
        },
        "id": "2Emlxg7eWRpb",
        "outputId": "f5575b85-0eca-4884-d2e9-b35563ce0c7b"
      },
      "outputs": [
        {
          "output_type": "stream",
          "name": "stdout",
          "text": [
            "Downloading data from https://storage.googleapis.com/tensorflow/tf-keras-datasets/mnist.npz\n",
            "11490434/11490434 [==============================] - 0s 0us/step\n"
          ]
        },
        {
          "output_type": "execute_result",
          "data": {
            "text/plain": [
              "((60000, 28, 28), (10000, 28, 28), (60000,), (10000,))"
            ]
          },
          "metadata": {},
          "execution_count": 5
        }
      ],
      "source": [
        "from keras.datasets import mnist\n",
        "\n",
        "(X_train, y_train), (X_test, y_test) = mnist.load_data()\n",
        "\n",
        "X_train.shape, X_test.shape, y_train.shape, y_test.shape"
      ]
    },
    {
      "cell_type": "code",
      "execution_count": null,
      "metadata": {
        "colab": {
          "base_uri": "https://localhost:8080/"
        },
        "id": "4u9VoZ72WRpc",
        "outputId": "9840caed-abbf-4505-c356-4111c4256886"
      },
      "outputs": [
        {
          "output_type": "execute_result",
          "data": {
            "text/plain": [
              "((60000, 28, 28), (10000, 28, 28), (60000,), (10000,))"
            ]
          },
          "metadata": {},
          "execution_count": 6
        }
      ],
      "source": [
        "# Select the indices for the binary classification\n",
        "y_train = y_train\n",
        "y_test = y_test\n",
        "\n",
        "X_train.shape, X_test.shape, y_train.shape, y_test.shape"
      ]
    },
    {
      "cell_type": "code",
      "execution_count": null,
      "metadata": {
        "colab": {
          "base_uri": "https://localhost:8080/"
        },
        "id": "cAQJjj0tWRpd",
        "outputId": "ac8d7186-54b8-48d9-f623-bae28195dd70"
      },
      "outputs": [
        {
          "output_type": "execute_result",
          "data": {
            "text/plain": [
              "((12049, 28, 28), (12049,))"
            ]
          },
          "metadata": {},
          "execution_count": 7
        }
      ],
      "source": [
        "# Select the indices for the binary classification\n",
        "\n",
        "X_train = X_train[(y_train == 3) | (y_train == 6)]\n",
        "y_train = y_train[(y_train == 3) | (y_train == 6)]\n",
        "X_test = X_test[(y_test == 3) | (y_test == 6)]\n",
        "y_test = y_test[(y_test == 3) | (y_test == 6)]\n",
        "\n",
        "X_train.shape, y_train.shape"
      ]
    },
    {
      "cell_type": "code",
      "execution_count": null,
      "metadata": {
        "colab": {
          "base_uri": "https://localhost:8080/",
          "height": 452
        },
        "id": "w9i4Mc9sWRpe",
        "outputId": "215b61c3-d177-4e1b-8680-fde57afa5fb3"
      },
      "outputs": [
        {
          "output_type": "execute_result",
          "data": {
            "text/plain": [
              "((12049, 16), (12049, 2), (1968, 16), (1968, 2))"
            ]
          },
          "metadata": {},
          "execution_count": 8
        },
        {
          "output_type": "display_data",
          "data": {
            "text/plain": [
              "<Figure size 640x480 with 1 Axes>"
            ],
            "image/png": "[encoded data removed]"
          },
          "metadata": {}
        }
      ],
      "source": [
        "X_train = tf.image.resize(np.expand_dims(X_train, 3), (4, 4)).numpy().squeeze()\n",
        "X_test = tf.image.resize(np.expand_dims(X_test, 3), (4, 4)).numpy().squeeze()\n",
        "\n",
        "plt.imshow(X_train[59])\n",
        "\n",
        "# reshape the X_train_n , and X_test_n,\n",
        "n_train = X_train.shape[0]\n",
        "n_test = X_test.shape[0]\n",
        "l_side = X_test.shape[1]\n",
        "X_train = X_train.reshape((n_train, l_side**2))/255\n",
        "X_test = X_test.reshape((n_test, l_side**2))/255\n",
        "\n",
        "## one hot encode the labels\n",
        "y_train_oh = np.zeros((len(y_train), 2))\n",
        "y_test_oh = np.zeros((len(y_test), 2))\n",
        "labels_train = np.zeros((len(y_train), 1))\n",
        "labels_test = np.zeros((len(y_test), 1))\n",
        "\n",
        "for i in range(len(y_train)):\n",
        "  if y_train[i] == 3:\n",
        "    y_train_oh[i] = np.array([1, 0])\n",
        "  else:\n",
        "    y_train_oh[i] = np.array([0, 1])\n",
        "    labels_train[i] = 1\n",
        "\n",
        "for i in range(len(y_test)):\n",
        "  if y_test[i] == 3:\n",
        "    y_test_oh[i] = np.array([1, 0])\n",
        "  else:\n",
        "    y_test_oh[i] = np.array([0, 1])\n",
        "    labels_test[i] = 1\n",
        "\n",
        "X_train.shape, y_train_oh.shape, X_test.shape, y_test_oh.shape"
      ]
    },
    {
      "cell_type": "code",
      "execution_count": null,
      "metadata": {
        "colab": {
          "base_uri": "https://localhost:8080/"
        },
        "id": "IMOFuv6yXA8O",
        "outputId": "463c2b06-492d-47a1-d91a-9ecb662c98e0"
      },
      "outputs": [
        {
          "output_type": "execute_result",
          "data": {
            "text/plain": [
              "((1968, 32), (12049, 32))"
            ]
          },
          "metadata": {},
          "execution_count": 18
        }
      ],
      "source": [
        "# Organize the features in a snake form\n",
        "\n",
        "X_train_feat = np.zeros_like(X_train)\n",
        "X_test_feat = np.zeros_like(X_test)\n",
        "for i in range(len(X_train)):\n",
        "  X_train_feat[i] = np.concatenate([X_train[i, :4], np.flip(X_train[i, 4:8]), X_train[i, 8:12], np.flip(X_train[i, 12:16])])\n",
        "\n",
        "for i in range(len(X_test)):\n",
        "  X_test_feat[i] = np.concatenate([X_test[i, :4], np.flip(X_test[i, 4:8]), X_test[i, 8:12], np.flip(X_test[i, 12:16])])\n",
        "\n",
        "## apply the FRQI mapping\n",
        "\n",
        "X_train_quantum_feat = np.zeros((X_train.shape[0], 2*X_train.shape[1]))\n",
        "X_test_quantum_feat = np.zeros((X_test.shape[0], 2*X_test.shape[1]))\n",
        "\n",
        "for i in range(X_train_feat.shape[1]):\n",
        "  X_train_quantum_feat[:, 2*i], X_train_quantum_feat[:, 2*i + 1] = np.cos(np.pi*X_train_feat[:, i]/2), np.sin(np.pi*X_train_feat[:, i]/2)\n",
        "\n",
        "for i in range(X_test_feat.shape[1]):\n",
        "  X_test_quantum_feat[:, 2*i], X_test_quantum_feat[:, 2*i + 1] = np.cos(np.pi*X_test_feat[:, i]/2), np.sin(np.pi*X_test_feat[:, i]/2)\n",
        "\n",
        "\n",
        "X_train_quantum_feat /= np.sqrt(X_train_feat.shape[1])\n",
        "X_test_quantum_feat /= np.sqrt(X_test_feat.shape[1])\n",
        "\n",
        "X_test_quantum_feat.shape, X_train_quantum_feat.shape"
      ]
    },
    {
      "cell_type": "markdown",
      "metadata": {
        "id": "pxqW1g5i5uPq"
      },
      "source": [
        "### Pennylane prediction"
      ]
    },
    {
      "cell_type": "code",
      "execution_count": null,
      "metadata": {
        "id": "VULvqwQ55yul"
      },
      "outputs": [],
      "source": [
        "dev = qml.device(\"lightning.qubit\", wires = 5)\n",
        "\n",
        "@qml.qnode(dev)\n",
        "def Dilip_MPS_variational(mps_params, image_feat_param):\n",
        "\n",
        "  qml.MottonenStatePreparation(state_vector=image_feat_param, wires=range(5))\n",
        "\n",
        "  # MPS Layer 1\n",
        "\n",
        "  qml.ArbitraryUnitary(mps_params[0], wires = [3, 4])\n",
        "  qml.ArbitraryUnitary(mps_params[1], wires = [2, 3])\n",
        "  qml.ArbitraryUnitary(mps_params[2], wires = [1, 2])\n",
        "  qml.ArbitraryUnitary(mps_params[3], wires = [0, 1])\n",
        "\n",
        "  # MPS Layer 2\n",
        "\n",
        "  qml.ArbitraryUnitary(mps_params[4], wires = [3, 4])\n",
        "  qml.ArbitraryUnitary(mps_params[5], wires = [2, 3])\n",
        "  qml.ArbitraryUnitary(mps_params[6], wires = [1, 2])\n",
        "  qml.ArbitraryUnitary(mps_params[7], wires = [0, 1])\n",
        "\n",
        "  return qml.probs(wires=[0])"
      ]
    },
    {
      "cell_type": "code",
      "execution_count": null,
      "metadata": {
        "id": "umyMqZM8-SiU"
      },
      "outputs": [],
      "source": [
        "## taken from https://stackoverflow.com/questions/67615051/implementing-binary-cross-entropy-loss-gives-different-answer-than-tensorflows\n",
        "\n",
        "def BinaryCrossEntropy(y_true, y_pred):\n",
        "    y_pred = np.array(y_pred).reshape(-1, 1)\n",
        "    y_pred = np.clip(y_pred, 1e-7, 1 - 1e-7)\n",
        "    term_0 = (1-y_true) * np.log(1-y_pred + 1e-7)\n",
        "    term_1 = y_true * np.log(y_pred + 1e-7)\n",
        "    return -np.mean(term_0+term_1, axis=0)"
      ]
    },
    {
      "cell_type": "code",
      "execution_count": null,
      "metadata": {
        "id": "QpAiXt81_RuM"
      },
      "outputs": [],
      "source": [
        "def mps_variational_classifier(mps_params, x1s):\n",
        "    preds= Dilip_MPS_variational(mps_params, x1s)\n",
        "    pred_1 = preds[1] / (preds[1] + preds[0])\n",
        "    return pred_1\n"
      ]
    },
    {
      "cell_type": "code",
      "execution_count": null,
      "metadata": {
        "id": "iIe1SYfOAGDo"
      },
      "outputs": [],
      "source": [
        "def cost(mps_params, features, labels):\n",
        "    predictions = [mps_variational_classifier(mps_params, x1s) for x1s in features]\n",
        "    return BinaryCrossEntropy(labels, predictions)"
      ]
    },
    {
      "cell_type": "markdown",
      "metadata": {
        "id": "G5dD8ZUI0_7R"
      },
      "source": [
        "### Training MPS variational classifier"
      ]
    },
    {
      "cell_type": "code",
      "execution_count": null,
      "metadata": {
        "colab": {
          "base_uri": "https://localhost:8080/",
          "height": 876
        },
        "id": "sOqsp4bJzMzR",
        "outputId": "8924c8c3-b9b8-4e77-e5cf-57ce48dc50ab"
      },
      "outputs": [
        {
          "output_type": "stream",
          "name": "stdout",
          "text": [
            "1000\n",
            "cost: [0.51597456]\n",
            "tensor([[ 0.83299639,  0.63423448,  0.10022679,  1.0841575 ,  0.56833078,\n",
            "          0.12848035,  0.64237409,  0.18373229,  0.81362353,  0.22555572,\n",
            "          0.87062365,  0.38520188,  0.31163507,  0.95529293,  0.25748925],\n",
            "        [ 0.66080592,  0.60440841,  0.6347893 ,  0.06845689,  0.52299896,\n",
            "          0.69102484,  0.60809382,  0.52586458,  0.44267817,  0.07833746,\n",
            "          0.46654743,  0.56001184,  0.08279575,  0.57117647,  0.74314489],\n",
            "        [ 0.13752271,  0.0544641 ,  0.29711185,  0.55325004,  0.12799357,\n",
            "          0.79775862,  0.53784024,  1.01282595,  0.94936009,  0.33208226,\n",
            "          0.82045593,  0.82917052,  0.65898273,  0.02681852, -0.14068317],\n",
            "        [ 0.70074276,  0.17065604,  0.30963038,  0.44249012,  0.00302629,\n",
            "          0.64811309,  0.46207154, -0.10426294,  0.39210542,  0.2563704 ,\n",
            "          0.67762717,  0.09225567,  1.01026318, -0.15989706, -0.07596536],\n",
            "        [ 0.81688594,  0.55246915,  0.78081479,  0.79423246,  0.91274484,\n",
            "          0.92220734,  0.32943949, -0.0092968 ,  0.9646311 ,  0.27533546,\n",
            "          0.88253809,  0.48364849,  0.04663028,  0.117535  ,  0.94123744],\n",
            "        [ 0.45824605,  0.74473485,  0.8921385 ,  0.11387294,  0.45028337,\n",
            "         -0.04877915,  0.7278501 ,  1.08453678,  0.16539441, -0.03328174,\n",
            "          0.42998245,  0.57070574,  0.33294049,  0.79297825,  0.23449038],\n",
            "        [ 0.60372364,  0.12462337,  0.12146031,  1.22431191,  0.89504433,\n",
            "          0.72799572,  0.94661458,  1.33308453, -0.52482004,  0.37584369,\n",
            "          0.40149449,  0.59303309,  0.75457127,  0.40951568,  0.41518368],\n",
            "        [ 0.36297963,  0.67053268,  0.42630718,  1.05613433,  0.45149433,\n",
            "          0.00241746,  0.83388248,  0.71944383,  0.63165339,  0.44109329,\n",
            "          0.62299377,  0.70269538,  0.37170621,  0.73339019,  0.74786354]], requires_grad=True)\n",
            "--------time VarQMC Epoch: 1000---------------\n",
            "859.3461179733276\n"
          ]
        },
        {
          "output_type": "error",
          "ename": "KeyboardInterrupt",
          "evalue": "ignored",
          "traceback": [
            "\u001b[0;31m---------------------------------------------------------------------------\u001b[0m",
            "\u001b[0;31mKeyboardInterrupt\u001b[0m                         Traceback (most recent call last)",
            "\u001b[0;32m<ipython-input-26-45bec39da27e>\u001b[0m in \u001b[0;36m<cell line: 15>\u001b[0;34m()\u001b[0m\n\u001b[1;32m     19\u001b[0m     \u001b[0mfeats_train_batch\u001b[0m \u001b[0;34m=\u001b[0m \u001b[0mX_train_quantum_feat\u001b[0m\u001b[0;34m[\u001b[0m\u001b[0mbatch_index\u001b[0m\u001b[0;34m]\u001b[0m\u001b[0;34m\u001b[0m\u001b[0;34m\u001b[0m\u001b[0m\n\u001b[1;32m     20\u001b[0m     \u001b[0mY_train_batch\u001b[0m \u001b[0;34m=\u001b[0m \u001b[0mlabels_train\u001b[0m\u001b[0;34m[\u001b[0m\u001b[0mbatch_index\u001b[0m\u001b[0;34m]\u001b[0m\u001b[0;34m\u001b[0m\u001b[0;34m\u001b[0m\u001b[0m\n\u001b[0;32m---> 21\u001b[0;31m     \u001b[0mvar_mps\u001b[0m \u001b[0;34m=\u001b[0m \u001b[0mopt\u001b[0m\u001b[0;34m.\u001b[0m\u001b[0mstep\u001b[0m\u001b[0;34m(\u001b[0m\u001b[0;32mlambda\u001b[0m \u001b[0mv_mps\u001b[0m\u001b[0;34m:\u001b[0m \u001b[0mcost\u001b[0m\u001b[0;34m(\u001b[0m\u001b[0mv_mps\u001b[0m\u001b[0;34m,\u001b[0m \u001b[0mfeats_train_batch\u001b[0m\u001b[0;34m,\u001b[0m \u001b[0mY_train_batch\u001b[0m\u001b[0;34m)\u001b[0m\u001b[0;34m,\u001b[0m \u001b[0mvar_mps\u001b[0m\u001b[0;34m)\u001b[0m\u001b[0;34m\u001b[0m\u001b[0;34m\u001b[0m\u001b[0m\n\u001b[0m\u001b[1;32m     22\u001b[0m \u001b[0;34m\u001b[0m\u001b[0m\n\u001b[1;32m     23\u001b[0m \u001b[0;34m\u001b[0m\u001b[0m\n",
            "\u001b[0;32m/usr/local/lib/python3.10/dist-packages/pennylane/optimize/gradient_descent.py\u001b[0m in \u001b[0;36mstep\u001b[0;34m(self, objective_fn, grad_fn, *args, **kwargs)\u001b[0m\n\u001b[1;32m     86\u001b[0m         \"\"\"\n\u001b[1;32m     87\u001b[0m \u001b[0;34m\u001b[0m\u001b[0m\n\u001b[0;32m---> 88\u001b[0;31m         \u001b[0mg\u001b[0m\u001b[0;34m,\u001b[0m \u001b[0m_\u001b[0m \u001b[0;34m=\u001b[0m \u001b[0mself\u001b[0m\u001b[0;34m.\u001b[0m\u001b[0mcompute_grad\u001b[0m\u001b[0;34m(\u001b[0m\u001b[0mobjective_fn\u001b[0m\u001b[0;34m,\u001b[0m \u001b[0margs\u001b[0m\u001b[0;34m,\u001b[0m \u001b[0mkwargs\u001b[0m\u001b[0;34m,\u001b[0m \u001b[0mgrad_fn\u001b[0m\u001b[0;34m=\u001b[0m\u001b[0mgrad_fn\u001b[0m\u001b[0;34m)\u001b[0m\u001b[0;34m\u001b[0m\u001b[0;34m\u001b[0m\u001b[0m\n\u001b[0m\u001b[1;32m     89\u001b[0m         \u001b[0mnew_args\u001b[0m \u001b[0;34m=\u001b[0m \u001b[0mself\u001b[0m\u001b[0;34m.\u001b[0m\u001b[0mapply_grad\u001b[0m\u001b[0;34m(\u001b[0m\u001b[0mg\u001b[0m\u001b[0;34m,\u001b[0m \u001b[0margs\u001b[0m\u001b[0;34m)\u001b[0m\u001b[0;34m\u001b[0m\u001b[0;34m\u001b[0m\u001b[0m\n\u001b[1;32m     90\u001b[0m \u001b[0;34m\u001b[0m\u001b[0m\n",
            "\u001b[0;32m/usr/local/lib/python3.10/dist-packages/pennylane/optimize/gradient_descent.py\u001b[0m in \u001b[0;36mcompute_grad\u001b[0;34m(objective_fn, args, kwargs, grad_fn)\u001b[0m\n\u001b[1;32m    115\u001b[0m         \"\"\"\n\u001b[1;32m    116\u001b[0m         \u001b[0mg\u001b[0m \u001b[0;34m=\u001b[0m \u001b[0mget_gradient\u001b[0m\u001b[0;34m(\u001b[0m\u001b[0mobjective_fn\u001b[0m\u001b[0;34m)\u001b[0m \u001b[0;32mif\u001b[0m \u001b[0mgrad_fn\u001b[0m \u001b[0;32mis\u001b[0m \u001b[0;32mNone\u001b[0m \u001b[0;32melse\u001b[0m \u001b[0mgrad_fn\u001b[0m\u001b[0;34m\u001b[0m\u001b[0;34m\u001b[0m\u001b[0m\n\u001b[0;32m--> 117\u001b[0;31m         \u001b[0mgrad\u001b[0m \u001b[0;34m=\u001b[0m \u001b[0mg\u001b[0m\u001b[0;34m(\u001b[0m\u001b[0;34m*\u001b[0m\u001b[0margs\u001b[0m\u001b[0;34m,\u001b[0m \u001b[0;34m**\u001b[0m\u001b[0mkwargs\u001b[0m\u001b[0;34m)\u001b[0m\u001b[0;34m\u001b[0m\u001b[0;34m\u001b[0m\u001b[0m\n\u001b[0m\u001b[1;32m    118\u001b[0m         \u001b[0mforward\u001b[0m \u001b[0;34m=\u001b[0m \u001b[0mgetattr\u001b[0m\u001b[0;34m(\u001b[0m\u001b[0mg\u001b[0m\u001b[0;34m,\u001b[0m \u001b[0;34m\"forward\"\u001b[0m\u001b[0;34m,\u001b[0m \u001b[0;32mNone\u001b[0m\u001b[0;34m)\u001b[0m\u001b[0;34m\u001b[0m\u001b[0;34m\u001b[0m\u001b[0m\n\u001b[1;32m    119\u001b[0m \u001b[0;34m\u001b[0m\u001b[0m\n",
            "\u001b[0;32m/usr/local/lib/python3.10/dist-packages/pennylane/_grad.py\u001b[0m in \u001b[0;36m__call__\u001b[0;34m(self, *args, **kwargs)\u001b[0m\n\u001b[1;32m    118\u001b[0m             \u001b[0;32mreturn\u001b[0m \u001b[0;34m(\u001b[0m\u001b[0;34m)\u001b[0m\u001b[0;34m\u001b[0m\u001b[0;34m\u001b[0m\u001b[0m\n\u001b[1;32m    119\u001b[0m \u001b[0;34m\u001b[0m\u001b[0m\n\u001b[0;32m--> 120\u001b[0;31m         \u001b[0mgrad_value\u001b[0m\u001b[0;34m,\u001b[0m \u001b[0mans\u001b[0m \u001b[0;34m=\u001b[0m \u001b[0mgrad_fn\u001b[0m\u001b[0;34m(\u001b[0m\u001b[0;34m*\u001b[0m\u001b[0margs\u001b[0m\u001b[0;34m,\u001b[0m \u001b[0;34m**\u001b[0m\u001b[0mkwargs\u001b[0m\u001b[0;34m)\u001b[0m  \u001b[0;31m# pylint: disable=not-callable\u001b[0m\u001b[0;34m\u001b[0m\u001b[0;34m\u001b[0m\u001b[0m\n\u001b[0m\u001b[1;32m    121\u001b[0m         \u001b[0mself\u001b[0m\u001b[0;34m.\u001b[0m\u001b[0m_forward\u001b[0m \u001b[0;34m=\u001b[0m \u001b[0mans\u001b[0m\u001b[0;34m\u001b[0m\u001b[0;34m\u001b[0m\u001b[0m\n\u001b[1;32m    122\u001b[0m \u001b[0;34m\u001b[0m\u001b[0m\n",
            "\u001b[0;32m/usr/local/lib/python3.10/dist-packages/autograd/wrap_util.py\u001b[0m in \u001b[0;36mnary_f\u001b[0;34m(*args, **kwargs)\u001b[0m\n\u001b[1;32m     18\u001b[0m             \u001b[0;32melse\u001b[0m\u001b[0;34m:\u001b[0m\u001b[0;34m\u001b[0m\u001b[0;34m\u001b[0m\u001b[0m\n\u001b[1;32m     19\u001b[0m                 \u001b[0mx\u001b[0m \u001b[0;34m=\u001b[0m \u001b[0mtuple\u001b[0m\u001b[0;34m(\u001b[0m\u001b[0margs\u001b[0m\u001b[0;34m[\u001b[0m\u001b[0mi\u001b[0m\u001b[0;34m]\u001b[0m \u001b[0;32mfor\u001b[0m \u001b[0mi\u001b[0m \u001b[0;32min\u001b[0m \u001b[0margnum\u001b[0m\u001b[0;34m)\u001b[0m\u001b[0;34m\u001b[0m\u001b[0;34m\u001b[0m\u001b[0m\n\u001b[0;32m---> 20\u001b[0;31m             \u001b[0;32mreturn\u001b[0m \u001b[0munary_operator\u001b[0m\u001b[0;34m(\u001b[0m\u001b[0munary_f\u001b[0m\u001b[0;34m,\u001b[0m \u001b[0mx\u001b[0m\u001b[0;34m,\u001b[0m \u001b[0;34m*\u001b[0m\u001b[0mnary_op_args\u001b[0m\u001b[0;34m,\u001b[0m \u001b[0;34m**\u001b[0m\u001b[0mnary_op_kwargs\u001b[0m\u001b[0;34m)\u001b[0m\u001b[0;34m\u001b[0m\u001b[0;34m\u001b[0m\u001b[0m\n\u001b[0m\u001b[1;32m     21\u001b[0m         \u001b[0;32mreturn\u001b[0m \u001b[0mnary_f\u001b[0m\u001b[0;34m\u001b[0m\u001b[0;34m\u001b[0m\u001b[0m\n\u001b[1;32m     22\u001b[0m     \u001b[0;32mreturn\u001b[0m \u001b[0mnary_operator\u001b[0m\u001b[0;34m\u001b[0m\u001b[0;34m\u001b[0m\u001b[0m\n",
            "\u001b[0;32m/usr/local/lib/python3.10/dist-packages/pennylane/_grad.py\u001b[0m in \u001b[0;36m_grad_with_forward\u001b[0;34m(fun, x)\u001b[0m\n\u001b[1;32m    144\u001b[0m             )\n\u001b[1;32m    145\u001b[0m \u001b[0;34m\u001b[0m\u001b[0m\n\u001b[0;32m--> 146\u001b[0;31m         \u001b[0mgrad_value\u001b[0m \u001b[0;34m=\u001b[0m \u001b[0mvjp\u001b[0m\u001b[0;34m(\u001b[0m\u001b[0mvspace\u001b[0m\u001b[0;34m(\u001b[0m\u001b[0mans\u001b[0m\u001b[0;34m)\u001b[0m\u001b[0;34m.\u001b[0m\u001b[0mones\u001b[0m\u001b[0;34m(\u001b[0m\u001b[0;34m)\u001b[0m\u001b[0;34m)\u001b[0m\u001b[0;34m\u001b[0m\u001b[0;34m\u001b[0m\u001b[0m\n\u001b[0m\u001b[1;32m    147\u001b[0m         \u001b[0;32mreturn\u001b[0m \u001b[0mgrad_value\u001b[0m\u001b[0;34m,\u001b[0m \u001b[0mans\u001b[0m\u001b[0;34m\u001b[0m\u001b[0;34m\u001b[0m\u001b[0m\n\u001b[1;32m    148\u001b[0m \u001b[0;34m\u001b[0m\u001b[0m\n",
            "\u001b[0;32m/usr/local/lib/python3.10/dist-packages/autograd/core.py\u001b[0m in \u001b[0;36mvjp\u001b[0;34m(g)\u001b[0m\n\u001b[1;32m     12\u001b[0m         \u001b[0;32mdef\u001b[0m \u001b[0mvjp\u001b[0m\u001b[0;34m(\u001b[0m\u001b[0mg\u001b[0m\u001b[0;34m)\u001b[0m\u001b[0;34m:\u001b[0m \u001b[0;32mreturn\u001b[0m \u001b[0mvspace\u001b[0m\u001b[0;34m(\u001b[0m\u001b[0mx\u001b[0m\u001b[0;34m)\u001b[0m\u001b[0;34m.\u001b[0m\u001b[0mzeros\u001b[0m\u001b[0;34m(\u001b[0m\u001b[0;34m)\u001b[0m\u001b[0;34m\u001b[0m\u001b[0;34m\u001b[0m\u001b[0m\n\u001b[1;32m     13\u001b[0m     \u001b[0;32melse\u001b[0m\u001b[0;34m:\u001b[0m\u001b[0;34m\u001b[0m\u001b[0;34m\u001b[0m\u001b[0m\n\u001b[0;32m---> 14\u001b[0;31m         \u001b[0;32mdef\u001b[0m \u001b[0mvjp\u001b[0m\u001b[0;34m(\u001b[0m\u001b[0mg\u001b[0m\u001b[0;34m)\u001b[0m\u001b[0;34m:\u001b[0m \u001b[0;32mreturn\u001b[0m \u001b[0mbackward_pass\u001b[0m\u001b[0;34m(\u001b[0m\u001b[0mg\u001b[0m\u001b[0;34m,\u001b[0m \u001b[0mend_node\u001b[0m\u001b[0;34m)\u001b[0m\u001b[0;34m\u001b[0m\u001b[0;34m\u001b[0m\u001b[0m\n\u001b[0m\u001b[1;32m     15\u001b[0m     \u001b[0;32mreturn\u001b[0m \u001b[0mvjp\u001b[0m\u001b[0;34m,\u001b[0m \u001b[0mend_value\u001b[0m\u001b[0;34m\u001b[0m\u001b[0;34m\u001b[0m\u001b[0m\n\u001b[1;32m     16\u001b[0m \u001b[0;34m\u001b[0m\u001b[0m\n",
            "\u001b[0;32m/usr/local/lib/python3.10/dist-packages/autograd/core.py\u001b[0m in \u001b[0;36mbackward_pass\u001b[0;34m(g, end_node)\u001b[0m\n\u001b[1;32m     19\u001b[0m     \u001b[0;32mfor\u001b[0m \u001b[0mnode\u001b[0m \u001b[0;32min\u001b[0m \u001b[0mtoposort\u001b[0m\u001b[0;34m(\u001b[0m\u001b[0mend_node\u001b[0m\u001b[0;34m)\u001b[0m\u001b[0;34m:\u001b[0m\u001b[0;34m\u001b[0m\u001b[0;34m\u001b[0m\u001b[0m\n\u001b[1;32m     20\u001b[0m         \u001b[0moutgrad\u001b[0m \u001b[0;34m=\u001b[0m \u001b[0moutgrads\u001b[0m\u001b[0;34m.\u001b[0m\u001b[0mpop\u001b[0m\u001b[0;34m(\u001b[0m\u001b[0mnode\u001b[0m\u001b[0;34m)\u001b[0m\u001b[0;34m\u001b[0m\u001b[0;34m\u001b[0m\u001b[0m\n\u001b[0;32m---> 21\u001b[0;31m         \u001b[0mingrads\u001b[0m \u001b[0;34m=\u001b[0m \u001b[0mnode\u001b[0m\u001b[0;34m.\u001b[0m\u001b[0mvjp\u001b[0m\u001b[0;34m(\u001b[0m\u001b[0moutgrad\u001b[0m\u001b[0;34m[\u001b[0m\u001b[0;36m0\u001b[0m\u001b[0;34m]\u001b[0m\u001b[0;34m)\u001b[0m\u001b[0;34m\u001b[0m\u001b[0;34m\u001b[0m\u001b[0m\n\u001b[0m\u001b[1;32m     22\u001b[0m         \u001b[0;32mfor\u001b[0m \u001b[0mparent\u001b[0m\u001b[0;34m,\u001b[0m \u001b[0mingrad\u001b[0m \u001b[0;32min\u001b[0m \u001b[0mzip\u001b[0m\u001b[0;34m(\u001b[0m\u001b[0mnode\u001b[0m\u001b[0;34m.\u001b[0m\u001b[0mparents\u001b[0m\u001b[0;34m,\u001b[0m \u001b[0mingrads\u001b[0m\u001b[0;34m)\u001b[0m\u001b[0;34m:\u001b[0m\u001b[0;34m\u001b[0m\u001b[0;34m\u001b[0m\u001b[0m\n\u001b[1;32m     23\u001b[0m             \u001b[0moutgrads\u001b[0m\u001b[0;34m[\u001b[0m\u001b[0mparent\u001b[0m\u001b[0;34m]\u001b[0m \u001b[0;34m=\u001b[0m \u001b[0madd_outgrads\u001b[0m\u001b[0;34m(\u001b[0m\u001b[0moutgrads\u001b[0m\u001b[0;34m.\u001b[0m\u001b[0mget\u001b[0m\u001b[0;34m(\u001b[0m\u001b[0mparent\u001b[0m\u001b[0;34m)\u001b[0m\u001b[0;34m,\u001b[0m \u001b[0mingrad\u001b[0m\u001b[0;34m)\u001b[0m\u001b[0;34m\u001b[0m\u001b[0;34m\u001b[0m\u001b[0m\n",
            "\u001b[0;32m/usr/local/lib/python3.10/dist-packages/autograd/core.py\u001b[0m in \u001b[0;36m<lambda>\u001b[0;34m(g)\u001b[0m\n\u001b[1;32m     65\u001b[0m                     \"VJP of {} wrt argnum 0 not defined\".format(fun.__name__))\n\u001b[1;32m     66\u001b[0m             \u001b[0mvjp\u001b[0m \u001b[0;34m=\u001b[0m \u001b[0mvjpfun\u001b[0m\u001b[0;34m(\u001b[0m\u001b[0mans\u001b[0m\u001b[0;34m,\u001b[0m \u001b[0;34m*\u001b[0m\u001b[0margs\u001b[0m\u001b[0;34m,\u001b[0m \u001b[0;34m**\u001b[0m\u001b[0mkwargs\u001b[0m\u001b[0;34m)\u001b[0m\u001b[0;34m\u001b[0m\u001b[0;34m\u001b[0m\u001b[0m\n\u001b[0;32m---> 67\u001b[0;31m             \u001b[0;32mreturn\u001b[0m \u001b[0;32mlambda\u001b[0m \u001b[0mg\u001b[0m\u001b[0;34m:\u001b[0m \u001b[0;34m(\u001b[0m\u001b[0mvjp\u001b[0m\u001b[0;34m(\u001b[0m\u001b[0mg\u001b[0m\u001b[0;34m)\u001b[0m\u001b[0;34m,\u001b[0m\u001b[0;34m)\u001b[0m\u001b[0;34m\u001b[0m\u001b[0;34m\u001b[0m\u001b[0m\n\u001b[0m\u001b[1;32m     68\u001b[0m         \u001b[0;32melif\u001b[0m \u001b[0mL\u001b[0m \u001b[0;34m==\u001b[0m \u001b[0;36m2\u001b[0m\u001b[0;34m:\u001b[0m\u001b[0;34m\u001b[0m\u001b[0;34m\u001b[0m\u001b[0m\n\u001b[1;32m     69\u001b[0m             \u001b[0margnum_0\u001b[0m\u001b[0;34m,\u001b[0m \u001b[0margnum_1\u001b[0m \u001b[0;34m=\u001b[0m \u001b[0margnums\u001b[0m\u001b[0;34m\u001b[0m\u001b[0;34m\u001b[0m\u001b[0m\n",
            "\u001b[0;32m/usr/local/lib/python3.10/dist-packages/pennylane/interfaces/autograd.py\u001b[0m in \u001b[0;36mgrad_fn\u001b[0;34m(dy)\u001b[0m\n\u001b[1;32m    479\u001b[0m \u001b[0;34m\u001b[0m\u001b[0m\n\u001b[1;32m    480\u001b[0m         \u001b[0;32mif\u001b[0m \u001b[0mgradient_fn\u001b[0m \u001b[0;32mand\u001b[0m \u001b[0mgradient_fn\u001b[0m\u001b[0;34m.\u001b[0m\u001b[0m__name__\u001b[0m \u001b[0;34m==\u001b[0m \u001b[0;34m\"param_shift\"\u001b[0m \u001b[0;32mand\u001b[0m \u001b[0mcomputing_jacobian\u001b[0m\u001b[0;34m:\u001b[0m\u001b[0;34m\u001b[0m\u001b[0;34m\u001b[0m\u001b[0m\n\u001b[0;32m--> 481\u001b[0;31m             \u001b[0mjacs\u001b[0m \u001b[0;34m=\u001b[0m \u001b[0m_get_jac_with_caching\u001b[0m\u001b[0;34m(\u001b[0m\u001b[0;34m)\u001b[0m\u001b[0;34m\u001b[0m\u001b[0;34m\u001b[0m\u001b[0m\n\u001b[0m\u001b[1;32m    482\u001b[0m         \u001b[0;32melse\u001b[0m\u001b[0;34m:\u001b[0m\u001b[0;34m\u001b[0m\u001b[0;34m\u001b[0m\u001b[0m\n\u001b[1;32m    483\u001b[0m             \u001b[0mjacs\u001b[0m \u001b[0;34m=\u001b[0m \u001b[0mans\u001b[0m\u001b[0;34m[\u001b[0m\u001b[0;36m1\u001b[0m\u001b[0;34m]\u001b[0m\u001b[0;34m\u001b[0m\u001b[0;34m\u001b[0m\u001b[0m\n",
            "\u001b[0;32m/usr/local/lib/python3.10/dist-packages/pennylane/interfaces/autograd.py\u001b[0m in \u001b[0;36m_get_jac_with_caching\u001b[0;34m()\u001b[0m\n\u001b[1;32m    451\u001b[0m \u001b[0;34m\u001b[0m\u001b[0m\n\u001b[1;32m    452\u001b[0m         \u001b[0mg_tapes\u001b[0m\u001b[0;34m,\u001b[0m \u001b[0mfn\u001b[0m \u001b[0;34m=\u001b[0m \u001b[0mqml\u001b[0m\u001b[0;34m.\u001b[0m\u001b[0mtransforms\u001b[0m\u001b[0;34m.\u001b[0m\u001b[0mmap_batch_transform\u001b[0m\u001b[0;34m(\u001b[0m\u001b[0mpartial_gradient_fn\u001b[0m\u001b[0;34m,\u001b[0m \u001b[0mtapes\u001b[0m\u001b[0;34m)\u001b[0m\u001b[0;34m\u001b[0m\u001b[0;34m\u001b[0m\u001b[0m\n\u001b[0;32m--> 453\u001b[0;31m         \u001b[0mres\u001b[0m\u001b[0;34m,\u001b[0m \u001b[0m_\u001b[0m \u001b[0;34m=\u001b[0m \u001b[0mexecute_fn\u001b[0m\u001b[0;34m(\u001b[0m\u001b[0mg_tapes\u001b[0m\u001b[0;34m,\u001b[0m \u001b[0;34m**\u001b[0m\u001b[0mgradient_kwargs\u001b[0m\u001b[0;34m)\u001b[0m\u001b[0;34m\u001b[0m\u001b[0;34m\u001b[0m\u001b[0m\n\u001b[0m\u001b[1;32m    454\u001b[0m \u001b[0;34m\u001b[0m\u001b[0m\n\u001b[1;32m    455\u001b[0m         \u001b[0mjacs\u001b[0m \u001b[0;34m=\u001b[0m \u001b[0mfn\u001b[0m\u001b[0;34m(\u001b[0m\u001b[0mres\u001b[0m\u001b[0;34m)\u001b[0m\u001b[0;34m\u001b[0m\u001b[0;34m\u001b[0m\u001b[0m\n",
            "\u001b[0;32m/usr/local/lib/python3.10/dist-packages/pennylane/interfaces/execution.py\u001b[0m in \u001b[0;36minner_execute_with_empty_jac\u001b[0;34m(tapes, **_)\u001b[0m\n\u001b[1;32m    621\u001b[0m     \u001b[0;31m# moved to its own explicit step so it will be easier to remove\u001b[0m\u001b[0;34m\u001b[0m\u001b[0;34m\u001b[0m\u001b[0m\n\u001b[1;32m    622\u001b[0m     \u001b[0;32mdef\u001b[0m \u001b[0minner_execute_with_empty_jac\u001b[0m\u001b[0;34m(\u001b[0m\u001b[0mtapes\u001b[0m\u001b[0;34m,\u001b[0m \u001b[0;34m**\u001b[0m\u001b[0m_\u001b[0m\u001b[0;34m)\u001b[0m\u001b[0;34m:\u001b[0m\u001b[0;34m\u001b[0m\u001b[0;34m\u001b[0m\u001b[0m\n\u001b[0;32m--> 623\u001b[0;31m         \u001b[0;32mreturn\u001b[0m \u001b[0;34m(\u001b[0m\u001b[0minner_execute\u001b[0m\u001b[0;34m(\u001b[0m\u001b[0mtapes\u001b[0m\u001b[0;34m)\u001b[0m\u001b[0;34m,\u001b[0m \u001b[0;34m[\u001b[0m\u001b[0;34m]\u001b[0m\u001b[0;34m)\u001b[0m\u001b[0;34m\u001b[0m\u001b[0;34m\u001b[0m\u001b[0m\n\u001b[0m\u001b[1;32m    624\u001b[0m \u001b[0;34m\u001b[0m\u001b[0m\n\u001b[1;32m    625\u001b[0m     \u001b[0mexecute_fn\u001b[0m \u001b[0;34m=\u001b[0m \u001b[0minner_execute_with_empty_jac\u001b[0m\u001b[0;34m\u001b[0m\u001b[0;34m\u001b[0m\u001b[0m\n",
            "\u001b[0;32m/usr/local/lib/python3.10/dist-packages/pennylane/interfaces/execution.py\u001b[0m in \u001b[0;36minner_execute\u001b[0;34m(tapes, **_)\u001b[0m\n\u001b[1;32m    250\u001b[0m         \"\"\"\n\u001b[1;32m    251\u001b[0m         \u001b[0;32mif\u001b[0m \u001b[0mexpand_fn\u001b[0m\u001b[0;34m:\u001b[0m\u001b[0;34m\u001b[0m\u001b[0;34m\u001b[0m\u001b[0m\n\u001b[0;32m--> 252\u001b[0;31m             \u001b[0mtapes\u001b[0m \u001b[0;34m=\u001b[0m \u001b[0mtuple\u001b[0m\u001b[0;34m(\u001b[0m\u001b[0mexpand_fn\u001b[0m\u001b[0;34m(\u001b[0m\u001b[0mt\u001b[0m\u001b[0;34m)\u001b[0m \u001b[0;32mfor\u001b[0m \u001b[0mt\u001b[0m \u001b[0;32min\u001b[0m \u001b[0mtapes\u001b[0m\u001b[0;34m)\u001b[0m\u001b[0;34m\u001b[0m\u001b[0;34m\u001b[0m\u001b[0m\n\u001b[0m\u001b[1;32m    253\u001b[0m         \u001b[0;32mif\u001b[0m \u001b[0mnumpy_only\u001b[0m\u001b[0;34m:\u001b[0m\u001b[0;34m\u001b[0m\u001b[0;34m\u001b[0m\u001b[0m\n\u001b[1;32m    254\u001b[0m             \u001b[0mtapes\u001b[0m \u001b[0;34m=\u001b[0m \u001b[0mtuple\u001b[0m\u001b[0;34m(\u001b[0m\u001b[0mqml\u001b[0m\u001b[0;34m.\u001b[0m\u001b[0mtransforms\u001b[0m\u001b[0;34m.\u001b[0m\u001b[0mconvert_to_numpy_parameters\u001b[0m\u001b[0;34m(\u001b[0m\u001b[0mt\u001b[0m\u001b[0;34m)\u001b[0m \u001b[0;32mfor\u001b[0m \u001b[0mt\u001b[0m \u001b[0;32min\u001b[0m \u001b[0mtapes\u001b[0m\u001b[0;34m)\u001b[0m\u001b[0;34m\u001b[0m\u001b[0;34m\u001b[0m\u001b[0m\n",
            "\u001b[0;32m/usr/local/lib/python3.10/dist-packages/pennylane/interfaces/execution.py\u001b[0m in \u001b[0;36m<genexpr>\u001b[0;34m(.0)\u001b[0m\n\u001b[1;32m    250\u001b[0m         \"\"\"\n\u001b[1;32m    251\u001b[0m         \u001b[0;32mif\u001b[0m \u001b[0mexpand_fn\u001b[0m\u001b[0;34m:\u001b[0m\u001b[0;34m\u001b[0m\u001b[0;34m\u001b[0m\u001b[0m\n\u001b[0;32m--> 252\u001b[0;31m             \u001b[0mtapes\u001b[0m \u001b[0;34m=\u001b[0m \u001b[0mtuple\u001b[0m\u001b[0;34m(\u001b[0m\u001b[0mexpand_fn\u001b[0m\u001b[0;34m(\u001b[0m\u001b[0mt\u001b[0m\u001b[0;34m)\u001b[0m \u001b[0;32mfor\u001b[0m \u001b[0mt\u001b[0m \u001b[0;32min\u001b[0m \u001b[0mtapes\u001b[0m\u001b[0;34m)\u001b[0m\u001b[0;34m\u001b[0m\u001b[0;34m\u001b[0m\u001b[0m\n\u001b[0m\u001b[1;32m    253\u001b[0m         \u001b[0;32mif\u001b[0m \u001b[0mnumpy_only\u001b[0m\u001b[0;34m:\u001b[0m\u001b[0;34m\u001b[0m\u001b[0;34m\u001b[0m\u001b[0m\n\u001b[1;32m    254\u001b[0m             \u001b[0mtapes\u001b[0m \u001b[0;34m=\u001b[0m \u001b[0mtuple\u001b[0m\u001b[0;34m(\u001b[0m\u001b[0mqml\u001b[0m\u001b[0;34m.\u001b[0m\u001b[0mtransforms\u001b[0m\u001b[0;34m.\u001b[0m\u001b[0mconvert_to_numpy_parameters\u001b[0m\u001b[0;34m(\u001b[0m\u001b[0mt\u001b[0m\u001b[0;34m)\u001b[0m \u001b[0;32mfor\u001b[0m \u001b[0mt\u001b[0m \u001b[0;32min\u001b[0m \u001b[0mtapes\u001b[0m\u001b[0;34m)\u001b[0m\u001b[0;34m\u001b[0m\u001b[0;34m\u001b[0m\u001b[0m\n",
            "\u001b[0;32m/usr/local/lib/python3.10/dist-packages/pennylane/interfaces/execution.py\u001b[0m in \u001b[0;36mdevice_expansion_function\u001b[0;34m(tape)\u001b[0m\n\u001b[1;32m    210\u001b[0m     \u001b[0;32mdef\u001b[0m \u001b[0mdevice_expansion_function\u001b[0m\u001b[0;34m(\u001b[0m\u001b[0mtape\u001b[0m\u001b[0;34m)\u001b[0m\u001b[0;34m:\u001b[0m  \u001b[0;31m# pylint: disable=function-redefined\u001b[0m\u001b[0;34m\u001b[0m\u001b[0;34m\u001b[0m\u001b[0m\n\u001b[1;32m    211\u001b[0m         \u001b[0;34m\"\"\"A wrapper around the device ``expand_fn``.\"\"\"\u001b[0m\u001b[0;34m\u001b[0m\u001b[0;34m\u001b[0m\u001b[0m\n\u001b[0;32m--> 212\u001b[0;31m         \u001b[0;32mreturn\u001b[0m \u001b[0mdevice\u001b[0m\u001b[0;34m.\u001b[0m\u001b[0mexpand_fn\u001b[0m\u001b[0;34m(\u001b[0m\u001b[0mtape\u001b[0m\u001b[0;34m,\u001b[0m \u001b[0mmax_expansion\u001b[0m\u001b[0;34m=\u001b[0m\u001b[0mmax_expansion\u001b[0m\u001b[0;34m)\u001b[0m\u001b[0;34m\u001b[0m\u001b[0;34m\u001b[0m\u001b[0m\n\u001b[0m\u001b[1;32m    213\u001b[0m \u001b[0;34m\u001b[0m\u001b[0m\n\u001b[1;32m    214\u001b[0m     \u001b[0;32mreturn\u001b[0m \u001b[0mdevice_expansion_function\u001b[0m\u001b[0;34m\u001b[0m\u001b[0;34m\u001b[0m\u001b[0m\n",
            "\u001b[0;32m/usr/local/lib/python3.10/dist-packages/pennylane/_device.py\u001b[0m in \u001b[0;36mexpand_fn\u001b[0;34m(self, circuit, max_expansion)\u001b[0m\n\u001b[1;32m    711\u001b[0m             \u001b[0;32mreturn\u001b[0m \u001b[0mself\u001b[0m\u001b[0;34m.\u001b[0m\u001b[0mcustom_expand_fn\u001b[0m\u001b[0;34m(\u001b[0m\u001b[0mcircuit\u001b[0m\u001b[0;34m,\u001b[0m \u001b[0mmax_expansion\u001b[0m\u001b[0;34m=\u001b[0m\u001b[0mmax_expansion\u001b[0m\u001b[0;34m)\u001b[0m\u001b[0;34m\u001b[0m\u001b[0;34m\u001b[0m\u001b[0m\n\u001b[1;32m    712\u001b[0m \u001b[0;34m\u001b[0m\u001b[0m\n\u001b[0;32m--> 713\u001b[0;31m         \u001b[0;32mreturn\u001b[0m \u001b[0mself\u001b[0m\u001b[0;34m.\u001b[0m\u001b[0mdefault_expand_fn\u001b[0m\u001b[0;34m(\u001b[0m\u001b[0mcircuit\u001b[0m\u001b[0;34m,\u001b[0m \u001b[0mmax_expansion\u001b[0m\u001b[0;34m=\u001b[0m\u001b[0mmax_expansion\u001b[0m\u001b[0;34m)\u001b[0m\u001b[0;34m\u001b[0m\u001b[0;34m\u001b[0m\u001b[0m\n\u001b[0m\u001b[1;32m    714\u001b[0m \u001b[0;34m\u001b[0m\u001b[0m\n\u001b[1;32m    715\u001b[0m     \u001b[0;32mdef\u001b[0m \u001b[0mbatch_transform\u001b[0m\u001b[0;34m(\u001b[0m\u001b[0mself\u001b[0m\u001b[0;34m,\u001b[0m \u001b[0mcircuit\u001b[0m\u001b[0;34m:\u001b[0m \u001b[0mQuantumTape\u001b[0m\u001b[0;34m)\u001b[0m\u001b[0;34m:\u001b[0m\u001b[0;34m\u001b[0m\u001b[0;34m\u001b[0m\u001b[0m\n",
            "\u001b[0;32m/usr/local/lib/python3.10/dist-packages/pennylane/_device.py\u001b[0m in \u001b[0;36mdefault_expand_fn\u001b[0;34m(self, circuit, max_expansion)\u001b[0m\n\u001b[1;32m    682\u001b[0m \u001b[0;34m\u001b[0m\u001b[0m\n\u001b[1;32m    683\u001b[0m         \u001b[0;32melif\u001b[0m \u001b[0mops_not_supported\u001b[0m\u001b[0;34m:\u001b[0m\u001b[0;34m\u001b[0m\u001b[0;34m\u001b[0m\u001b[0m\n\u001b[0;32m--> 684\u001b[0;31m             circuit = _local_tape_expand(\n\u001b[0m\u001b[1;32m    685\u001b[0m                 \u001b[0mcircuit\u001b[0m\u001b[0;34m,\u001b[0m \u001b[0mdepth\u001b[0m\u001b[0;34m=\u001b[0m\u001b[0mmax_expansion\u001b[0m\u001b[0;34m,\u001b[0m \u001b[0mstop_at\u001b[0m\u001b[0;34m=\u001b[0m\u001b[0mself\u001b[0m\u001b[0;34m.\u001b[0m\u001b[0mstopping_condition\u001b[0m\u001b[0;34m\u001b[0m\u001b[0;34m\u001b[0m\u001b[0m\n\u001b[1;32m    686\u001b[0m             )\n",
            "\u001b[0;32m/usr/local/lib/python3.10/dist-packages/pennylane/_device.py\u001b[0m in \u001b[0;36m_local_tape_expand\u001b[0;34m(tape, depth, stop_at)\u001b[0m\n\u001b[1;32m     82\u001b[0m                 \u001b[0;32mif\u001b[0m \u001b[0mobj\u001b[0m\u001b[0;34m.\u001b[0m\u001b[0mhas_decomposition\u001b[0m\u001b[0;34m:\u001b[0m\u001b[0;34m\u001b[0m\u001b[0;34m\u001b[0m\u001b[0m\n\u001b[1;32m     83\u001b[0m                     \u001b[0;32mwith\u001b[0m \u001b[0mQueuingManager\u001b[0m\u001b[0;34m.\u001b[0m\u001b[0mstop_recording\u001b[0m\u001b[0;34m(\u001b[0m\u001b[0;34m)\u001b[0m\u001b[0;34m:\u001b[0m\u001b[0;34m\u001b[0m\u001b[0;34m\u001b[0m\u001b[0m\n\u001b[0;32m---> 84\u001b[0;31m                         \u001b[0mobj\u001b[0m \u001b[0;34m=\u001b[0m \u001b[0mQuantumScript\u001b[0m\u001b[0;34m(\u001b[0m\u001b[0mobj\u001b[0m\u001b[0;34m.\u001b[0m\u001b[0mdecomposition\u001b[0m\u001b[0;34m(\u001b[0m\u001b[0;34m)\u001b[0m\u001b[0;34m,\u001b[0m \u001b[0m_update\u001b[0m\u001b[0;34m=\u001b[0m\u001b[0;32mFalse\u001b[0m\u001b[0;34m)\u001b[0m\u001b[0;34m\u001b[0m\u001b[0;34m\u001b[0m\u001b[0m\n\u001b[0m\u001b[1;32m     85\u001b[0m                 \u001b[0;32melse\u001b[0m\u001b[0;34m:\u001b[0m\u001b[0;34m\u001b[0m\u001b[0;34m\u001b[0m\u001b[0m\n\u001b[1;32m     86\u001b[0m                     \u001b[0mnew_queue\u001b[0m\u001b[0;34m.\u001b[0m\u001b[0mappend\u001b[0m\u001b[0;34m(\u001b[0m\u001b[0mobj\u001b[0m\u001b[0;34m)\u001b[0m\u001b[0;34m\u001b[0m\u001b[0;34m\u001b[0m\u001b[0m\n",
            "\u001b[0;32m/usr/local/lib/python3.10/dist-packages/pennylane/operation.py\u001b[0m in \u001b[0;36mdecomposition\u001b[0;34m(self)\u001b[0m\n\u001b[1;32m   1255\u001b[0m             \u001b[0mlist\u001b[0m\u001b[0;34m[\u001b[0m\u001b[0mOperator\u001b[0m\u001b[0;34m]\u001b[0m\u001b[0;34m:\u001b[0m \u001b[0mdecomposition\u001b[0m \u001b[0mof\u001b[0m \u001b[0mthe\u001b[0m \u001b[0moperator\u001b[0m\u001b[0;34m\u001b[0m\u001b[0;34m\u001b[0m\u001b[0m\n\u001b[1;32m   1256\u001b[0m         \"\"\"\n\u001b[0;32m-> 1257\u001b[0;31m         return self.compute_decomposition(\n\u001b[0m\u001b[1;32m   1258\u001b[0m             \u001b[0;34m*\u001b[0m\u001b[0mself\u001b[0m\u001b[0;34m.\u001b[0m\u001b[0mparameters\u001b[0m\u001b[0;34m,\u001b[0m \u001b[0mwires\u001b[0m\u001b[0;34m=\u001b[0m\u001b[0mself\u001b[0m\u001b[0;34m.\u001b[0m\u001b[0mwires\u001b[0m\u001b[0;34m,\u001b[0m \u001b[0;34m**\u001b[0m\u001b[0mself\u001b[0m\u001b[0;34m.\u001b[0m\u001b[0mhyperparameters\u001b[0m\u001b[0;34m\u001b[0m\u001b[0;34m\u001b[0m\u001b[0m\n\u001b[1;32m   1259\u001b[0m         )\n",
            "\u001b[0;32m/usr/local/lib/python3.10/dist-packages/pennylane/ops/qubit/parametric_ops_multi_qubit.py\u001b[0m in \u001b[0;36mcompute_decomposition\u001b[0;34m(theta, wires, pauli_word)\u001b[0m\n\u001b[1;32m    493\u001b[0m                 \u001b[0mops\u001b[0m\u001b[0;34m.\u001b[0m\u001b[0mappend\u001b[0m\u001b[0;34m(\u001b[0m\u001b[0mRX\u001b[0m\u001b[0;34m(\u001b[0m\u001b[0mnp\u001b[0m\u001b[0;34m.\u001b[0m\u001b[0mpi\u001b[0m \u001b[0;34m/\u001b[0m \u001b[0;36m2\u001b[0m\u001b[0;34m,\u001b[0m \u001b[0mwires\u001b[0m\u001b[0;34m=\u001b[0m\u001b[0;34m[\u001b[0m\u001b[0mwire\u001b[0m\u001b[0;34m]\u001b[0m\u001b[0;34m)\u001b[0m\u001b[0;34m)\u001b[0m\u001b[0;34m\u001b[0m\u001b[0;34m\u001b[0m\u001b[0m\n\u001b[1;32m    494\u001b[0m \u001b[0;34m\u001b[0m\u001b[0m\n\u001b[0;32m--> 495\u001b[0;31m         \u001b[0mops\u001b[0m\u001b[0;34m.\u001b[0m\u001b[0mappend\u001b[0m\u001b[0;34m(\u001b[0m\u001b[0mMultiRZ\u001b[0m\u001b[0;34m(\u001b[0m\u001b[0mtheta\u001b[0m\u001b[0;34m,\u001b[0m \u001b[0mwires\u001b[0m\u001b[0;34m=\u001b[0m\u001b[0mlist\u001b[0m\u001b[0;34m(\u001b[0m\u001b[0mactive_wires\u001b[0m\u001b[0;34m)\u001b[0m\u001b[0;34m)\u001b[0m\u001b[0;34m)\u001b[0m\u001b[0;34m\u001b[0m\u001b[0;34m\u001b[0m\u001b[0m\n\u001b[0m\u001b[1;32m    496\u001b[0m \u001b[0;34m\u001b[0m\u001b[0m\n\u001b[1;32m    497\u001b[0m         \u001b[0;32mfor\u001b[0m \u001b[0mwire\u001b[0m\u001b[0;34m,\u001b[0m \u001b[0mgate\u001b[0m \u001b[0;32min\u001b[0m \u001b[0mzip\u001b[0m\u001b[0;34m(\u001b[0m\u001b[0mactive_wires\u001b[0m\u001b[0;34m,\u001b[0m \u001b[0mactive_gates\u001b[0m\u001b[0;34m)\u001b[0m\u001b[0;34m:\u001b[0m\u001b[0;34m\u001b[0m\u001b[0;34m\u001b[0m\u001b[0m\n",
            "\u001b[0;32m/usr/local/lib/python3.10/dist-packages/pennylane/ops/qubit/parametric_ops_multi_qubit.py\u001b[0m in \u001b[0;36m__init__\u001b[0;34m(self, theta, wires, id)\u001b[0m\n\u001b[1;32m     74\u001b[0m         \u001b[0mwires\u001b[0m \u001b[0;34m=\u001b[0m \u001b[0mWires\u001b[0m\u001b[0;34m(\u001b[0m\u001b[0mwires\u001b[0m\u001b[0;34m)\u001b[0m\u001b[0;34m\u001b[0m\u001b[0;34m\u001b[0m\u001b[0m\n\u001b[1;32m     75\u001b[0m         \u001b[0mself\u001b[0m\u001b[0;34m.\u001b[0m\u001b[0mhyperparameters\u001b[0m\u001b[0;34m[\u001b[0m\u001b[0;34m\"num_wires\"\u001b[0m\u001b[0;34m]\u001b[0m \u001b[0;34m=\u001b[0m \u001b[0mlen\u001b[0m\u001b[0;34m(\u001b[0m\u001b[0mwires\u001b[0m\u001b[0;34m)\u001b[0m\u001b[0;34m\u001b[0m\u001b[0;34m\u001b[0m\u001b[0m\n\u001b[0;32m---> 76\u001b[0;31m         \u001b[0msuper\u001b[0m\u001b[0;34m(\u001b[0m\u001b[0;34m)\u001b[0m\u001b[0;34m.\u001b[0m\u001b[0m__init__\u001b[0m\u001b[0;34m(\u001b[0m\u001b[0mtheta\u001b[0m\u001b[0;34m,\u001b[0m \u001b[0mwires\u001b[0m\u001b[0;34m=\u001b[0m\u001b[0mwires\u001b[0m\u001b[0;34m,\u001b[0m \u001b[0mid\u001b[0m\u001b[0;34m=\u001b[0m\u001b[0mid\u001b[0m\u001b[0;34m)\u001b[0m\u001b[0;34m\u001b[0m\u001b[0;34m\u001b[0m\u001b[0m\n\u001b[0m\u001b[1;32m     77\u001b[0m \u001b[0;34m\u001b[0m\u001b[0m\n\u001b[1;32m     78\u001b[0m     \u001b[0;34m@\u001b[0m\u001b[0mstaticmethod\u001b[0m\u001b[0;34m\u001b[0m\u001b[0;34m\u001b[0m\u001b[0m\n",
            "\u001b[0;32m/usr/local/lib/python3.10/dist-packages/pennylane/operation.py\u001b[0m in \u001b[0;36m__init__\u001b[0;34m(self, wires, id, *params)\u001b[0m\n\u001b[1;32m   1762\u001b[0m \u001b[0;34m\u001b[0m\u001b[0m\n\u001b[1;32m   1763\u001b[0m     \u001b[0;32mdef\u001b[0m \u001b[0m__init__\u001b[0m\u001b[0;34m(\u001b[0m\u001b[0mself\u001b[0m\u001b[0;34m,\u001b[0m \u001b[0;34m*\u001b[0m\u001b[0mparams\u001b[0m\u001b[0;34m,\u001b[0m \u001b[0mwires\u001b[0m\u001b[0;34m=\u001b[0m\u001b[0;32mNone\u001b[0m\u001b[0;34m,\u001b[0m \u001b[0mid\u001b[0m\u001b[0;34m=\u001b[0m\u001b[0;32mNone\u001b[0m\u001b[0;34m)\u001b[0m\u001b[0;34m:\u001b[0m\u001b[0;34m\u001b[0m\u001b[0;34m\u001b[0m\u001b[0m\n\u001b[0;32m-> 1764\u001b[0;31m         \u001b[0msuper\u001b[0m\u001b[0;34m(\u001b[0m\u001b[0;34m)\u001b[0m\u001b[0;34m.\u001b[0m\u001b[0m__init__\u001b[0m\u001b[0;34m(\u001b[0m\u001b[0;34m*\u001b[0m\u001b[0mparams\u001b[0m\u001b[0;34m,\u001b[0m \u001b[0mwires\u001b[0m\u001b[0;34m=\u001b[0m\u001b[0mwires\u001b[0m\u001b[0;34m,\u001b[0m \u001b[0mid\u001b[0m\u001b[0;34m=\u001b[0m\u001b[0mid\u001b[0m\u001b[0;34m)\u001b[0m\u001b[0;34m\u001b[0m\u001b[0;34m\u001b[0m\u001b[0m\n\u001b[0m\u001b[1;32m   1765\u001b[0m \u001b[0;34m\u001b[0m\u001b[0m\n\u001b[1;32m   1766\u001b[0m         \u001b[0;31m# check the grad_recipe validity\u001b[0m\u001b[0;34m\u001b[0m\u001b[0;34m\u001b[0m\u001b[0m\n",
            "\u001b[0;32m/usr/local/lib/python3.10/dist-packages/pennylane/operation.py\u001b[0m in \u001b[0;36m__init__\u001b[0;34m(self, wires, id, *params)\u001b[0m\n\u001b[1;32m   1069\u001b[0m             )\n\u001b[1;32m   1070\u001b[0m \u001b[0;34m\u001b[0m\u001b[0m\n\u001b[0;32m-> 1071\u001b[0;31m         \u001b[0mself\u001b[0m\u001b[0;34m.\u001b[0m\u001b[0m_check_batching\u001b[0m\u001b[0;34m(\u001b[0m\u001b[0mparams\u001b[0m\u001b[0;34m)\u001b[0m\u001b[0;34m\u001b[0m\u001b[0;34m\u001b[0m\u001b[0m\n\u001b[0m\u001b[1;32m   1072\u001b[0m \u001b[0;34m\u001b[0m\u001b[0m\n\u001b[1;32m   1073\u001b[0m         \u001b[0mself\u001b[0m\u001b[0;34m.\u001b[0m\u001b[0mdata\u001b[0m \u001b[0;34m=\u001b[0m \u001b[0mtuple\u001b[0m\u001b[0;34m(\u001b[0m\u001b[0mnp\u001b[0m\u001b[0;34m.\u001b[0m\u001b[0marray\u001b[0m\u001b[0;34m(\u001b[0m\u001b[0mp\u001b[0m\u001b[0;34m)\u001b[0m \u001b[0;32mif\u001b[0m \u001b[0misinstance\u001b[0m\u001b[0;34m(\u001b[0m\u001b[0mp\u001b[0m\u001b[0;34m,\u001b[0m \u001b[0;34m(\u001b[0m\u001b[0mlist\u001b[0m\u001b[0;34m,\u001b[0m \u001b[0mtuple\u001b[0m\u001b[0;34m)\u001b[0m\u001b[0;34m)\u001b[0m \u001b[0;32melse\u001b[0m \u001b[0mp\u001b[0m \u001b[0;32mfor\u001b[0m \u001b[0mp\u001b[0m \u001b[0;32min\u001b[0m \u001b[0mparams\u001b[0m\u001b[0;34m)\u001b[0m\u001b[0;34m\u001b[0m\u001b[0;34m\u001b[0m\u001b[0m\n",
            "\u001b[0;32m/usr/local/lib/python3.10/dist-packages/pennylane/operation.py\u001b[0m in \u001b[0;36m_check_batching\u001b[0;34m(self, params)\u001b[0m\n\u001b[1;32m   1089\u001b[0m \u001b[0;34m\u001b[0m\u001b[0m\n\u001b[1;32m   1090\u001b[0m         \u001b[0;32mtry\u001b[0m\u001b[0;34m:\u001b[0m\u001b[0;34m\u001b[0m\u001b[0;34m\u001b[0m\u001b[0m\n\u001b[0;32m-> 1091\u001b[0;31m             \u001b[0mndims\u001b[0m \u001b[0;34m=\u001b[0m \u001b[0mtuple\u001b[0m\u001b[0;34m(\u001b[0m\u001b[0mqml\u001b[0m\u001b[0;34m.\u001b[0m\u001b[0mmath\u001b[0m\u001b[0;34m.\u001b[0m\u001b[0mndim\u001b[0m\u001b[0;34m(\u001b[0m\u001b[0mp\u001b[0m\u001b[0;34m)\u001b[0m \u001b[0;32mfor\u001b[0m \u001b[0mp\u001b[0m \u001b[0;32min\u001b[0m \u001b[0mparams\u001b[0m\u001b[0;34m)\u001b[0m\u001b[0;34m\u001b[0m\u001b[0;34m\u001b[0m\u001b[0m\n\u001b[0m\u001b[1;32m   1092\u001b[0m         \u001b[0;32mexcept\u001b[0m \u001b[0mValueError\u001b[0m \u001b[0;32mas\u001b[0m \u001b[0me\u001b[0m\u001b[0;34m:\u001b[0m\u001b[0;34m\u001b[0m\u001b[0;34m\u001b[0m\u001b[0m\n\u001b[1;32m   1093\u001b[0m             \u001b[0;31m# TODO:[dwierichs] When using tf.function with an input_signature that contains\u001b[0m\u001b[0;34m\u001b[0m\u001b[0;34m\u001b[0m\u001b[0m\n",
            "\u001b[0;32m/usr/local/lib/python3.10/dist-packages/pennylane/operation.py\u001b[0m in \u001b[0;36m<genexpr>\u001b[0;34m(.0)\u001b[0m\n\u001b[1;32m   1089\u001b[0m \u001b[0;34m\u001b[0m\u001b[0m\n\u001b[1;32m   1090\u001b[0m         \u001b[0;32mtry\u001b[0m\u001b[0;34m:\u001b[0m\u001b[0;34m\u001b[0m\u001b[0;34m\u001b[0m\u001b[0m\n\u001b[0;32m-> 1091\u001b[0;31m             \u001b[0mndims\u001b[0m \u001b[0;34m=\u001b[0m \u001b[0mtuple\u001b[0m\u001b[0;34m(\u001b[0m\u001b[0mqml\u001b[0m\u001b[0;34m.\u001b[0m\u001b[0mmath\u001b[0m\u001b[0;34m.\u001b[0m\u001b[0mndim\u001b[0m\u001b[0;34m(\u001b[0m\u001b[0mp\u001b[0m\u001b[0;34m)\u001b[0m \u001b[0;32mfor\u001b[0m \u001b[0mp\u001b[0m \u001b[0;32min\u001b[0m \u001b[0mparams\u001b[0m\u001b[0;34m)\u001b[0m\u001b[0;34m\u001b[0m\u001b[0;34m\u001b[0m\u001b[0m\n\u001b[0m\u001b[1;32m   1092\u001b[0m         \u001b[0;32mexcept\u001b[0m \u001b[0mValueError\u001b[0m \u001b[0;32mas\u001b[0m \u001b[0me\u001b[0m\u001b[0;34m:\u001b[0m\u001b[0;34m\u001b[0m\u001b[0;34m\u001b[0m\u001b[0m\n\u001b[1;32m   1093\u001b[0m             \u001b[0;31m# TODO:[dwierichs] When using tf.function with an input_signature that contains\u001b[0m\u001b[0;34m\u001b[0m\u001b[0;34m\u001b[0m\u001b[0m\n",
            "\u001b[0;32m/usr/local/lib/python3.10/dist-packages/pennylane/math/__init__.py\u001b[0m in \u001b[0;36m__getattr__\u001b[0;34m(name)\u001b[0m\n\u001b[1;32m    126\u001b[0m \u001b[0;34m\u001b[0m\u001b[0m\n\u001b[1;32m    127\u001b[0m \u001b[0;34m\u001b[0m\u001b[0m\n\u001b[0;32m--> 128\u001b[0;31m \u001b[0;32mdef\u001b[0m \u001b[0m__getattr__\u001b[0m\u001b[0;34m(\u001b[0m\u001b[0mname\u001b[0m\u001b[0;34m)\u001b[0m\u001b[0;34m:\u001b[0m\u001b[0;34m\u001b[0m\u001b[0;34m\u001b[0m\u001b[0m\n\u001b[0m\u001b[1;32m    129\u001b[0m     \u001b[0;32mreturn\u001b[0m \u001b[0mgetattr\u001b[0m\u001b[0;34m(\u001b[0m\u001b[0mnumpy_mimic\u001b[0m\u001b[0;34m,\u001b[0m \u001b[0mname\u001b[0m\u001b[0;34m)\u001b[0m\u001b[0;34m\u001b[0m\u001b[0;34m\u001b[0m\u001b[0m\n\u001b[1;32m    130\u001b[0m \u001b[0;34m\u001b[0m\u001b[0m\n",
            "\u001b[0;31mKeyboardInterrupt\u001b[0m: "
          ]
        }
      ],
      "source": [
        "# 4 feaatures\n",
        "\n",
        "# Experiment method 5\n",
        "\n",
        "var_init_mps_randominit = np.random.rand(8, 15)\n",
        "\n",
        "opt = qml.AdamOptimizer(stepsize = 0.001) # original 0.001\n",
        "batch_size = 5\n",
        "num_train = len(X_train_quantum_feat)\n",
        "\n",
        "# train the variational classifier\n",
        "var_mps = var_mps_986its\n",
        "\n",
        "exp_time = time()\n",
        "for it in range(986, 12001):\n",
        "\n",
        "    # Gradient descent step\n",
        "    batch_index = np.random.randint(0, num_train, (batch_size,))\n",
        "    feats_train_batch = X_train_quantum_feat[batch_index]\n",
        "    Y_train_batch = labels_train[batch_index]\n",
        "    var_mps = opt.step(lambda v_mps: cost(v_mps, feats_train_batch, Y_train_batch), var_mps)\n",
        "\n",
        "\n",
        "    if it % 100 == 0:\n",
        "      print(it)\n",
        "      print(\"cost:\", cost(var_mps, feats_train_batch, Y_train_batch))\n",
        "      print(repr(var_mps))\n",
        "      print(f\"--------time VarQMC Epoch: {it}---------------\")\n",
        "      print(time() - exp_time)\n",
        "      exp_time = time()\n",
        "\n",
        "    if it % 800 == 0:\n",
        "      print(it)\n",
        "      print(\"cost:\", cost(var_mps, X_train_quantum_feat[:200], labels_train[:200]))\n",
        "      print(repr(var_mps))"
      ]
    },
    {
      "cell_type": "code",
      "execution_count": null,
      "metadata": {
        "id": "ifmTuGY8mMn4"
      },
      "outputs": [],
      "source": [
        "var_mps_30its = np.array([[0.71060912, 0.58304032, 0.0871209 , 0.98788839, 0.6622734 ,\n",
        "         0.23322513, 0.54650181, 0.05646772, 0.65325278, 0.61298476,\n",
        "         0.44921786, 0.2935209 , 0.14681468, 0.69755321, 0.39330737],\n",
        "        [0.68378935, 0.66103546, 0.86662613, 0.22129978, 0.51266245,\n",
        "         0.57051085, 0.44747002, 0.77408729, 0.31077888, 0.06351385,\n",
        "         0.50495245, 0.41723754, 0.10687544, 0.51966911, 0.58496273],\n",
        "        [0.18651484, 0.11610003, 0.26997205, 0.5494953 , 0.14988585,\n",
        "         0.71134314, 0.57295597, 0.8287852 , 0.90399489, 0.37276146,\n",
        "         0.83238258, 0.83875033, 0.68228682, 0.00286311, 0.08566515],\n",
        "        [0.53066005, 0.1299117 , 0.29233262, 0.40806596, 0.11330963,\n",
        "         0.79078632, 0.48456415, 0.01226469, 0.52641923, 0.25748825,\n",
        "         0.67161038, 0.10031573, 0.98855772, 0.00108739, 0.00858821],\n",
        "        [0.8068659 , 0.64045322, 0.78978872, 0.76687716, 0.99872844,\n",
        "         0.76858568, 0.34668329, 0.07419893, 0.84748303, 0.43048426,\n",
        "         0.8180286 , 0.72536634, 0.1135534 , 0.09829628, 0.94123744],\n",
        "        [0.64685499, 0.87053124, 0.98312547, 0.04155312, 0.3206519 ,\n",
        "         0.16640738, 0.66864035, 0.99641792, 0.1321707 , 0.14688426,\n",
        "         0.10927005, 0.64039381, 0.38000363, 0.84714477, 0.23449038],\n",
        "        [0.43855002, 0.01473589, 0.22862548, 0.86707878, 0.98482433,\n",
        "         0.78259046, 0.75868302, 0.87249852, 0.07253795, 0.53867922,\n",
        "         0.33970598, 0.44979102, 0.64568712, 0.66785061, 0.41518368],\n",
        "        [0.29161437, 0.52754027, 0.42951017, 0.93719471, 0.43872615,\n",
        "         0.27483469, 0.86885282, 0.69265612, 0.79838924, 0.42130754,\n",
        "         0.08476825, 0.3924509 , 0.36244073, 0.73339019, 0.74786354]])\n",
        "\n",
        "var_mps_500its = np.array([[ 0.80835646,  0.6726252 ,  0.1213111 ,  1.09516641,  0.61086011,\n",
        "          0.14878671,  0.63258484,  0.06119464,  0.65250923,  0.48348974,\n",
        "          0.66956361,  0.34673541,  0.21043024,  0.83704878,  0.28038663],\n",
        "        [ 0.71054811,  0.58858751,  0.71487036,  0.151882  ,  0.58863471,\n",
        "          0.63323952,  0.5880083 ,  0.54792777,  0.40240049,  0.1174712 ,\n",
        "          0.53565943,  0.5062388 ,  0.11731933,  0.44434889,  0.69111989],\n",
        "        [ 0.15927158,  0.05169204,  0.27220225,  0.51688214,  0.20448103,\n",
        "          0.77316015,  0.57243497,  0.96647888,  0.94405824,  0.35472645,\n",
        "          0.81503072,  0.79328985,  0.67703035,  0.01617821, -0.07928619],\n",
        "        [ 0.59653322,  0.14191776,  0.250964  ,  0.39082244, -0.00876081,\n",
        "          0.78983555,  0.56279351, -0.0604047 ,  0.42491343,  0.24028552,\n",
        "          0.65267066,  0.17076906,  0.99336925, -0.05410062, -0.08588455],\n",
        "        [ 0.83586636,  0.60294904,  0.79281001,  0.80728484,  0.89501055,\n",
        "          0.85154186,  0.33608294,  0.01549305,  0.93861309,  0.35859672,\n",
        "          0.82686004,  0.5670981 ,  0.0665002 ,  0.1187963 ,  0.94123744],\n",
        "        [ 0.52442393,  0.80269648,  0.89432924,  0.14097994,  0.40918261,\n",
        "         -0.02284791,  0.69437645,  1.05145602,  0.13802358, -0.01334979,\n",
        "          0.27647186,  0.517669  ,  0.29893009,  0.78581997,  0.23449038],\n",
        "        [ 0.49650813,  0.15569165,  0.16557202,  1.11083275,  0.986122  ,\n",
        "          0.68090374,  0.82812543,  1.18548149, -0.27960724,  0.457323  ,\n",
        "          0.46603104,  0.55147993,  0.67044864,  0.48574361,  0.41518368],\n",
        "        [ 0.33434605,  0.64927365,  0.40342403,  0.97974075,  0.456028  ,\n",
        "          0.09767422,  0.81025444,  0.72818228,  0.66392189,  0.46557665,\n",
        "          0.40397278,  0.63418383,  0.40756324,  0.73339019,  0.74786354]])\n",
        "\n",
        "var_mps_700its = np.array([[ 0.8366483 ,  0.66629949,  0.10619062,  1.09855559,  0.59416754,\n",
        "          0.13110313,  0.64535129,  0.11293398,  0.70781763,  0.40078857,\n",
        "          0.75302447,  0.3465756 ,  0.26665521,  0.90385044,  0.28971121],\n",
        "        [ 0.70564898,  0.61339996,  0.66842211,  0.12569565,  0.57109589,\n",
        "          0.66703989,  0.59837138,  0.53849624,  0.41928159,  0.09167519,\n",
        "          0.49402562,  0.53215066,  0.09569339,  0.47775813,  0.71268786],\n",
        "        [ 0.12873284,  0.04767827,  0.26315875,  0.53331451,  0.17934584,\n",
        "          0.78389725,  0.55866392,  0.99448112,  0.94390879,  0.35051999,\n",
        "          0.81332488,  0.80844938,  0.67349416,  0.02868475, -0.090145  ],\n",
        "        [ 0.6240724 ,  0.15447537,  0.26853765,  0.40847988, -0.02866047,\n",
        "          0.73831634,  0.52932517, -0.07919169,  0.40904023,  0.24601439,\n",
        "          0.67066704,  0.14467682,  1.00164566, -0.0968366 , -0.10309782],\n",
        "        [ 0.81908564,  0.58275098,  0.79151419,  0.81147486,  0.90499373,\n",
        "          0.88216686,  0.32755407,  0.01140971,  0.94161828,  0.31942987,\n",
        "          0.86945159,  0.5371223 ,  0.0658701 ,  0.11448298,  0.94123744],\n",
        "        [ 0.49794139,  0.76037039,  0.89651935,  0.12720071,  0.42114845,\n",
        "         -0.04482551,  0.72134367,  1.0631658 ,  0.13874169, -0.0161751 ,\n",
        "          0.34139071,  0.54474133,  0.30969658,  0.78470984,  0.23449038],\n",
        "        [ 0.50886746,  0.14789212,  0.13050109,  1.16471618,  0.95212784,\n",
        "          0.69622099,  0.88148445,  1.26103258, -0.38732764,  0.42138282,\n",
        "          0.43757013,  0.57889932,  0.71142814,  0.4508019 ,  0.41518368],\n",
        "        [ 0.35053996,  0.66796055,  0.411484  ,  1.01501574,  0.44991969,\n",
        "          0.03597582,  0.81764244,  0.72643537,  0.65196443,  0.45752329,\n",
        "          0.50069807,  0.68597056,  0.40090465,  0.73339019,  0.74786354]])\n",
        "\n",
        "var_mps_986its = np.array([[ 0.82781662,  0.63048883,  0.09830212,  1.07979507,  0.57461104,\n",
        "           0.13142537,  0.63803069,  0.17370037,  0.81381888,  0.23521527,\n",
        "           0.86278802,  0.37763979,  0.31684389,  0.95097177,  0.25373196],\n",
        "         [ 0.65989284,  0.60796849,  0.62887475,  0.06742349,  0.51959551,\n",
        "           0.68922472,  0.60780229,  0.53136735,  0.44477268,  0.07295908,\n",
        "           0.46508095,  0.56017967,  0.08657876,  0.56923386,  0.73808182],\n",
        "         [ 0.1372706 ,  0.05640214,  0.29625129,  0.54867297,  0.12395878,\n",
        "           0.79347946,  0.54162353,  1.01541569,  0.95256065,  0.33074409,\n",
        "           0.82268161,  0.82575786,  0.65777805,  0.02990893, -0.13180113],\n",
        "         [ 0.69268261,  0.16657681,  0.30500697,  0.44114711, -0.00324953,\n",
        "           0.65638126,  0.46522258, -0.10639839,  0.39106641,  0.25344026,\n",
        "           0.67427106,  0.09829205,  1.00681237, -0.16012457, -0.0758186 ],\n",
        "         [ 0.81998953,  0.55095631,  0.77703762,  0.79214233,  0.90912736,\n",
        "           0.92296508,  0.33346604, -0.01046176,  0.97022168,  0.27599649,\n",
        "           0.87990546,  0.49029124,  0.04742374,  0.11872055,  0.94123744],\n",
        "         [ 0.46350272,  0.74215159,  0.89080836,  0.11454243,  0.45043184,\n",
        "          -0.04380296,  0.7307115 ,  1.08904355,  0.15786789, -0.0307731 ,\n",
        "           0.42363694,  0.57650761,  0.32707554,  0.79023919,  0.23449038],\n",
        "         [ 0.59816575,  0.1225174 ,  0.1198027 ,  1.22020022,  0.90121374,\n",
        "           0.73016074,  0.94358079,  1.32864502, -0.52000083,  0.37325569,\n",
        "           0.40019047,  0.59303689,  0.75108749,  0.4147944 ,  0.41518368],\n",
        "         [ 0.36302841,  0.67045105,  0.42328825,  1.05194913,  0.45353871,\n",
        "           0.00665664,  0.83015263,  0.72204069,  0.63127358,  0.44415278,\n",
        "           0.61756421,  0.69880379,  0.3781759 ,  0.73339019,  0.74786354]])\n",
        "\n",
        "\n",
        "var_mps_1000its = np.array([[ 0.83299639,  0.63423448,  0.10022679,  1.0841575 ,  0.56833078,\n",
        "          0.12848035,  0.64237409,  0.18373229,  0.81362353,  0.22555572,\n",
        "          0.87062365,  0.38520188,  0.31163507,  0.95529293,  0.25748925],\n",
        "        [ 0.66080592,  0.60440841,  0.6347893 ,  0.06845689,  0.52299896,\n",
        "          0.69102484,  0.60809382,  0.52586458,  0.44267817,  0.07833746,\n",
        "          0.46654743,  0.56001184,  0.08279575,  0.57117647,  0.74314489],\n",
        "        [ 0.13752271,  0.0544641 ,  0.29711185,  0.55325004,  0.12799357,\n",
        "          0.79775862,  0.53784024,  1.01282595,  0.94936009,  0.33208226,\n",
        "          0.82045593,  0.82917052,  0.65898273,  0.02681852, -0.14068317],\n",
        "        [ 0.70074276,  0.17065604,  0.30963038,  0.44249012,  0.00302629,\n",
        "          0.64811309,  0.46207154, -0.10426294,  0.39210542,  0.2563704 ,\n",
        "          0.67762717,  0.09225567,  1.01026318, -0.15989706, -0.07596536],\n",
        "        [ 0.81688594,  0.55246915,  0.78081479,  0.79423246,  0.91274484,\n",
        "          0.92220734,  0.32943949, -0.0092968 ,  0.9646311 ,  0.27533546,\n",
        "          0.88253809,  0.48364849,  0.04663028,  0.117535  ,  0.94123744],\n",
        "        [ 0.45824605,  0.74473485,  0.8921385 ,  0.11387294,  0.45028337,\n",
        "         -0.04877915,  0.7278501 ,  1.08453678,  0.16539441, -0.03328174,\n",
        "          0.42998245,  0.57070574,  0.33294049,  0.79297825,  0.23449038],\n",
        "        [ 0.60372364,  0.12462337,  0.12146031,  1.22431191,  0.89504433,\n",
        "          0.72799572,  0.94661458,  1.33308453, -0.52482004,  0.37584369,\n",
        "          0.40149449,  0.59303309,  0.75457127,  0.40951568,  0.41518368],\n",
        "        [ 0.36297963,  0.67053268,  0.42630718,  1.05613433,  0.45149433,\n",
        "          0.00241746,  0.83388248,  0.71944383,  0.63165339,  0.44109329,\n",
        "          0.62299377,  0.70269538,  0.37170621,  0.73339019,  0.74786354]])\n"
      ]
    },
    {
      "cell_type": "code",
      "source": [
        "var_mps, it"
      ],
      "metadata": {
        "colab": {
          "base_uri": "https://localhost:8080/"
        },
        "id": "OHa-9lF9_NUo",
        "outputId": "a8070ef2-5a7b-4e9d-e9f0-55e229b51479"
      },
      "execution_count": null,
      "outputs": [
        {
          "output_type": "execute_result",
          "data": {
            "text/plain": [
              "(tensor([[ 0.8328388 ,  0.63404167,  0.10034843,  1.08392905,  0.56842765,\n",
              "           0.1285539 ,  0.64230243,  0.18399592,  0.81397899,  0.22497063,\n",
              "           0.87114866,  0.38520896,  0.31163553,  0.95562529,  0.2572508 ],\n",
              "         [ 0.66061559,  0.60432452,  0.63503553,  0.06818831,  0.52284191,\n",
              "           0.69129966,  0.60810218,  0.5257052 ,  0.44278562,  0.0783415 ,\n",
              "           0.46646401,  0.55993784,  0.08277932,  0.57165697,  0.74306321],\n",
              "         [ 0.13765063,  0.05460656,  0.29751185,  0.55338763,  0.12790589,\n",
              "           0.79777127,  0.53770124,  1.01296761,  0.94942552,  0.33198071,\n",
              "           0.82051875,  0.82920216,  0.65880124,  0.02677856, -0.14130376],\n",
              "         [ 0.70092896,  0.17075501,  0.3098142 ,  0.44291312,  0.00316939,\n",
              "           0.64777599,  0.46192531, -0.10432682,  0.39183917,  0.25635127,\n",
              "           0.67757666,  0.09241353,  1.01027633, -0.16017614, -0.0759389 ],\n",
              "         [ 0.81678872,  0.55245204,  0.78078679,  0.79407122,  0.91281803,\n",
              "           0.92242676,  0.32936906, -0.00959313,  0.9649194 ,  0.275168  ,\n",
              "           0.88242809,  0.48347306,  0.046577  ,  0.11748281,  0.94123744],\n",
              "         [ 0.45811234,  0.74469141,  0.89191343,  0.11383406,  0.45049931,\n",
              "          -0.048692  ,  0.72750165,  1.08462956,  0.16546192, -0.03319543,\n",
              "           0.43024304,  0.57078448,  0.33297218,  0.793064  ,  0.23449038],\n",
              "         [ 0.60391031,  0.12453879,  0.12138746,  1.22440327,  0.89478889,\n",
              "           0.7280944 ,  0.94682116,  1.33330426, -0.52497706,  0.37582091,\n",
              "           0.40133699,  0.59324839,  0.75458018,  0.40931702,  0.41518368],\n",
              "         [ 0.36294377,  0.6706661 ,  0.42634846,  1.05653398,  0.45163639,\n",
              "           0.00237015,  0.83360448,  0.71944569,  0.63131352,  0.44106247,\n",
              "           0.62355314,  0.70260414,  0.37186807,  0.73339019,  0.74786354]], requires_grad=True),\n",
              " 1002)"
            ]
          },
          "metadata": {},
          "execution_count": 27
        }
      ]
    },
    {
      "cell_type": "code",
      "execution_count": null,
      "metadata": {
        "colab": {
          "base_uri": "https://localhost:8080/"
        },
        "id": "4Yzn4YNr0_Np",
        "outputId": "927c14f1-13c4-426e-be02-a6f57258adaa"
      },
      "outputs": [
        {
          "output_type": "stream",
          "name": "stdout",
          "text": [
            "cost: [0.45587457]\n"
          ]
        }
      ],
      "source": [
        "print(\"cost:\", cost(var_mps_1000its, X_train_quantum_feat[:300], labels_train[:300]))\n"
      ]
    },
    {
      "cell_type": "code",
      "execution_count": null,
      "metadata": {
        "colab": {
          "base_uri": "https://localhost:8080/"
        },
        "id": "5C0AETl4FLWn",
        "outputId": "92f838e0-d144-4e5c-ae44-222a08ee825f"
      },
      "outputs": [
        {
          "output_type": "stream",
          "name": "stdout",
          "text": [
            "0.9110772357723578\n"
          ]
        }
      ],
      "source": [
        "# Learned parameters after 1000 batch steps MNIST data set , predictions 3 6 test data set\n",
        "\n",
        "predictions = [mps_variational_classifier(var_mps_1000its, x1s) for x1s in X_test_quantum_feat]\n",
        "print(accuracy_score(np.argmax(y_test_oh, axis=1), np.array(predictions) >= 0.5))"
      ]
    },
    {
      "cell_type": "code",
      "source": [],
      "metadata": {
        "id": "J4CsEkroJln6"
      },
      "execution_count": null,
      "outputs": []
    }
  ],
  "metadata": {
    "colab": {
      "toc_visible": true,
      "provenance": []
    },
    "kernelspec": {
      "display_name": "Python 3",
      "name": "python3"
    },
    "language_info": {
      "name": "python"
    }
  },
  "nbformat": 4,
  "nbformat_minor": 0
}