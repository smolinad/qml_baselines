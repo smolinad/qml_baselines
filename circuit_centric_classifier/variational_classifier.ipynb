{
 "cells": [
  {
   "cell_type": "code",
   "execution_count": 4,
   "metadata": {},
   "outputs": [],
   "source": [
    "import tensorcircuit as tc\n",
    "import numpy as np\n",
    "from tensorcircuit.templates.dataset import amplitude_encoding\n",
    "\n",
    "\n"
   ]
  },
  {
   "cell_type": "code",
   "execution_count": 5,
   "metadata": {},
   "outputs": [
    {
     "ename": "TypeError",
     "evalue": "'NumpyBackend' object is not callable",
     "output_type": "error",
     "traceback": [
      "\u001b[1;31m---------------------------------------------------------------------------\u001b[0m",
      "\u001b[1;31mTypeError\u001b[0m                                 Traceback (most recent call last)",
      "\u001b[1;32mc:\\Users\\anapa\\Documents\\Universidad\\QUANTUM\\quantum_machine_learning\\circuit_centric_classifier\\variational_classifier.ipynb Celda 2\u001b[0m line \u001b[0;36m1\n\u001b[1;32m----> <a href='vscode-notebook-cell:/c%3A/Users/anapa/Documents/Universidad/QUANTUM/quantum_machine_learning/circuit_centric_classifier/variational_classifier.ipynb#W2sZmlsZQ%3D%3D?line=0'>1</a>\u001b[0m tc\u001b[39m.\u001b[39;49mbackend(\u001b[39m\"\u001b[39;49m\u001b[39mtensorflow\u001b[39;49m\u001b[39m\"\u001b[39;49m)\n\u001b[0;32m      <a href='vscode-notebook-cell:/c%3A/Users/anapa/Documents/Universidad/QUANTUM/quantum_machine_learning/circuit_centric_classifier/variational_classifier.ipynb#W2sZmlsZQ%3D%3D?line=1'>2</a>\u001b[0m tc\u001b[39m.\u001b[39mset_dtype(\u001b[39m\"\u001b[39m\u001b[39mcomplex128\u001b[39m\u001b[39m\"\u001b[39m)\n",
      "\u001b[1;31mTypeError\u001b[0m: 'NumpyBackend' object is not callable"
     ]
    }
   ],
   "source": [
    "tc.backend(\"tensorflow\")\n",
    "tc.set_dtype(\"complex128\")"
   ]
  },
  {
   "cell_type": "code",
   "execution_count": null,
   "metadata": {},
   "outputs": [],
   "source": [
    "class VariationalClassifier():\n",
    "\n",
    "    def __init__(self, nqubits:int):\n",
    "        self.circuit = tc.Circuit(nqubits)\n",
    "        \n",
    "\n",
    "    def gate_G(self, index, alpha, beta, gamma, phi):\n",
    "\n",
    "        # Define G gate\n",
    "        unitary_ = np.e**(1.j*phi) * np.array(\n",
    "            [[np.e**(1.j * beta)*np.cos(alpha),\n",
    "              np.e**(1.j * gamma)*np.sin(alpha)],\n",
    "              [-np.e**(-1.j * gamma)*np.sin(alpha),\n",
    "              -np.e**(-1.j * beta)*np.cos(alpha)]])\n",
    "        \n",
    "        # Create the unitary matrix\n",
    "        #G = tc.gates.Unitary(unitary_, wires=1)\n",
    "        G = self.circuit.unitary(index, unitary=unitary_, name=\"G\")\n",
    "\n",
    "        \n",
    "\n",
    "    def layer(self, c_range:int):\n",
    "\n",
    "        steps = np.gcd(self.circuit._nqubits, c_range)\n",
    "        q_i = 0\n",
    "        for i in range(steps):\n",
    "            next_q_i = (q_i - c_range) % self.circuit._nqubits\n",
    "            gate_G(next_q_i, alpha, beta, gamma, phi)\n",
    "        \n",
    "\n",
    "    \n",
    "\n",
    "\n"
   ]
  }
 ],
 "metadata": {
  "kernelspec": {
   "display_name": "Python 3",
   "language": "python",
   "name": "python3"
  },
  "language_info": {
   "codemirror_mode": {
    "name": "ipython",
    "version": 3
   },
   "file_extension": ".py",
   "mimetype": "text/x-python",
   "name": "python",
   "nbconvert_exporter": "python",
   "pygments_lexer": "ipython3",
   "version": "3.10.8"
  }
 },
 "nbformat": 4,
 "nbformat_minor": 2
}
